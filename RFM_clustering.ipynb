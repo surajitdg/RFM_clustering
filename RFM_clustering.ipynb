{
  "nbformat": 4,
  "nbformat_minor": 0,
  "metadata": {
    "colab": {
      "name": "RFM_clustering.ipynb",
      "provenance": [],
      "collapsed_sections": []
    },
    "kernelspec": {
      "name": "python3",
      "display_name": "Python 3"
    },
    "language_info": {
      "name": "python"
    }
  },
  "cells": [
    {
      "cell_type": "code",
      "metadata": {
        "colab": {
          "base_uri": "https://localhost:8080/"
        },
        "id": "oR9xerSWDi3o",
        "outputId": "65891a99-8b45-4cf4-fa00-2f2a71d0eeb5"
      },
      "source": [
        "import pandas as pd\n",
        "import numpy as np\n",
        "import matplotlib.pyplot as plt\n",
        "import scipy.stats as stats\n",
        "\n",
        "from google.colab import drive\n",
        "drive.mount('/content/drive')\n",
        "!ls \"/content/drive\""
      ],
      "execution_count": null,
      "outputs": [
        {
          "output_type": "stream",
          "text": [
            "Mounted at /content/drive\n",
            "MyDrive\n"
          ],
          "name": "stdout"
        }
      ]
    },
    {
      "cell_type": "code",
      "metadata": {
        "colab": {
          "base_uri": "https://localhost:8080/"
        },
        "id": "HsjSPOGEFFVJ",
        "outputId": "36c2bc50-b10b-4cbb-c6bf-74ea2be0ff20"
      },
      "source": [
        "!ls /content/drive/MyDrive/datasets/kaggle/"
      ],
      "execution_count": null,
      "outputs": [
        {
          "output_type": "stream",
          "text": [
            "churn_prediction.csv  OnlineRetail.csv\tWA_Fn-UseC_-Telco-Customer-Churn.csv\n"
          ],
          "name": "stdout"
        }
      ]
    },
    {
      "cell_type": "code",
      "metadata": {
        "id": "NSQpdkEdEa6x"
      },
      "source": [
        "data = pd.read_csv('/content/drive/MyDrive/datasets/kaggle/OnlineRetail.csv',encoding='unicode_escape',dtype={'CustomerID':str})"
      ],
      "execution_count": null,
      "outputs": []
    },
    {
      "cell_type": "code",
      "metadata": {
        "colab": {
          "base_uri": "https://localhost:8080/",
          "height": 204
        },
        "id": "zSNIuI29IK3A",
        "outputId": "ce12fc67-8b4c-43e5-9e0d-8cf1739a7f04"
      },
      "source": [
        "data.head()"
      ],
      "execution_count": null,
      "outputs": [
        {
          "output_type": "execute_result",
          "data": {
            "text/html": [
              "<div>\n",
              "<style scoped>\n",
              "    .dataframe tbody tr th:only-of-type {\n",
              "        vertical-align: middle;\n",
              "    }\n",
              "\n",
              "    .dataframe tbody tr th {\n",
              "        vertical-align: top;\n",
              "    }\n",
              "\n",
              "    .dataframe thead th {\n",
              "        text-align: right;\n",
              "    }\n",
              "</style>\n",
              "<table border=\"1\" class=\"dataframe\">\n",
              "  <thead>\n",
              "    <tr style=\"text-align: right;\">\n",
              "      <th></th>\n",
              "      <th>InvoiceNo</th>\n",
              "      <th>StockCode</th>\n",
              "      <th>Description</th>\n",
              "      <th>Quantity</th>\n",
              "      <th>InvoiceDate</th>\n",
              "      <th>UnitPrice</th>\n",
              "      <th>CustomerID</th>\n",
              "      <th>Country</th>\n",
              "    </tr>\n",
              "  </thead>\n",
              "  <tbody>\n",
              "    <tr>\n",
              "      <th>0</th>\n",
              "      <td>536365</td>\n",
              "      <td>85123A</td>\n",
              "      <td>WHITE HANGING HEART T-LIGHT HOLDER</td>\n",
              "      <td>6</td>\n",
              "      <td>12/1/2010 8:26</td>\n",
              "      <td>2.55</td>\n",
              "      <td>17850</td>\n",
              "      <td>United Kingdom</td>\n",
              "    </tr>\n",
              "    <tr>\n",
              "      <th>1</th>\n",
              "      <td>536365</td>\n",
              "      <td>71053</td>\n",
              "      <td>WHITE METAL LANTERN</td>\n",
              "      <td>6</td>\n",
              "      <td>12/1/2010 8:26</td>\n",
              "      <td>3.39</td>\n",
              "      <td>17850</td>\n",
              "      <td>United Kingdom</td>\n",
              "    </tr>\n",
              "    <tr>\n",
              "      <th>2</th>\n",
              "      <td>536365</td>\n",
              "      <td>84406B</td>\n",
              "      <td>CREAM CUPID HEARTS COAT HANGER</td>\n",
              "      <td>8</td>\n",
              "      <td>12/1/2010 8:26</td>\n",
              "      <td>2.75</td>\n",
              "      <td>17850</td>\n",
              "      <td>United Kingdom</td>\n",
              "    </tr>\n",
              "    <tr>\n",
              "      <th>3</th>\n",
              "      <td>536365</td>\n",
              "      <td>84029G</td>\n",
              "      <td>KNITTED UNION FLAG HOT WATER BOTTLE</td>\n",
              "      <td>6</td>\n",
              "      <td>12/1/2010 8:26</td>\n",
              "      <td>3.39</td>\n",
              "      <td>17850</td>\n",
              "      <td>United Kingdom</td>\n",
              "    </tr>\n",
              "    <tr>\n",
              "      <th>4</th>\n",
              "      <td>536365</td>\n",
              "      <td>84029E</td>\n",
              "      <td>RED WOOLLY HOTTIE WHITE HEART.</td>\n",
              "      <td>6</td>\n",
              "      <td>12/1/2010 8:26</td>\n",
              "      <td>3.39</td>\n",
              "      <td>17850</td>\n",
              "      <td>United Kingdom</td>\n",
              "    </tr>\n",
              "  </tbody>\n",
              "</table>\n",
              "</div>"
            ],
            "text/plain": [
              "  InvoiceNo StockCode  ... CustomerID         Country\n",
              "0    536365    85123A  ...      17850  United Kingdom\n",
              "1    536365     71053  ...      17850  United Kingdom\n",
              "2    536365    84406B  ...      17850  United Kingdom\n",
              "3    536365    84029G  ...      17850  United Kingdom\n",
              "4    536365    84029E  ...      17850  United Kingdom\n",
              "\n",
              "[5 rows x 8 columns]"
            ]
          },
          "metadata": {
            "tags": []
          },
          "execution_count": 5
        }
      ]
    },
    {
      "cell_type": "code",
      "metadata": {
        "colab": {
          "base_uri": "https://localhost:8080/"
        },
        "id": "HKxATirbO5PM",
        "outputId": "f0268464-4b5b-4cb3-eb44-be2e7f924c19"
      },
      "source": [
        "data.dtypes"
      ],
      "execution_count": null,
      "outputs": [
        {
          "output_type": "execute_result",
          "data": {
            "text/plain": [
              "InvoiceNo       object\n",
              "StockCode       object\n",
              "Description     object\n",
              "Quantity         int64\n",
              "InvoiceDate     object\n",
              "UnitPrice      float64\n",
              "CustomerID      object\n",
              "Country         object\n",
              "dtype: object"
            ]
          },
          "metadata": {
            "tags": []
          },
          "execution_count": 6
        }
      ]
    },
    {
      "cell_type": "code",
      "metadata": {
        "colab": {
          "base_uri": "https://localhost:8080/"
        },
        "id": "pX78FXz9ISn7",
        "outputId": "4f272bec-a232-4510-c7b1-25f5399d0a61"
      },
      "source": [
        "data['Description'].value_counts()"
      ],
      "execution_count": null,
      "outputs": [
        {
          "output_type": "execute_result",
          "data": {
            "text/plain": [
              "WHITE HANGING HEART T-LIGHT HOLDER    2369\n",
              "REGENCY CAKESTAND 3 TIER              2200\n",
              "JUMBO BAG RED RETROSPOT               2159\n",
              "PARTY BUNTING                         1727\n",
              "LUNCH BAG RED RETROSPOT               1638\n",
              "                                      ... \n",
              "JAM JAR WITH BLUE LID                    1\n",
              "samples/damages                          1\n",
              "72 CAKE CASES VINTAGE CHRISTMAS          1\n",
              "for online retail orders                 1\n",
              "SET 10 CARDS TRIANGLE ICONS  17220       1\n",
              "Name: Description, Length: 4223, dtype: int64"
            ]
          },
          "metadata": {
            "tags": []
          },
          "execution_count": 7
        }
      ]
    },
    {
      "cell_type": "code",
      "metadata": {
        "colab": {
          "base_uri": "https://localhost:8080/"
        },
        "id": "U-6lhe5sIjnG",
        "outputId": "ad8a9cdc-5859-47f7-c08f-18940c56b14b"
      },
      "source": [
        "data.isna().sum()"
      ],
      "execution_count": null,
      "outputs": [
        {
          "output_type": "execute_result",
          "data": {
            "text/plain": [
              "InvoiceNo           0\n",
              "StockCode           0\n",
              "Description      1454\n",
              "Quantity            0\n",
              "InvoiceDate         0\n",
              "UnitPrice           0\n",
              "CustomerID     135080\n",
              "Country             0\n",
              "dtype: int64"
            ]
          },
          "metadata": {
            "tags": []
          },
          "execution_count": 8
        }
      ]
    },
    {
      "cell_type": "code",
      "metadata": {
        "colab": {
          "base_uri": "https://localhost:8080/"
        },
        "id": "9FF_YcKBN34w",
        "outputId": "33cc1044-1522-46b2-b2ec-ae06e606df44"
      },
      "source": [
        "data['CustomerID'].value_counts()"
      ],
      "execution_count": null,
      "outputs": [
        {
          "output_type": "execute_result",
          "data": {
            "text/plain": [
              "17841    7983\n",
              "14911    5903\n",
              "14096    5128\n",
              "12748    4642\n",
              "14606    2782\n",
              "         ... \n",
              "15590       1\n",
              "15524       1\n",
              "16765       1\n",
              "17307       1\n",
              "13829       1\n",
              "Name: CustomerID, Length: 4372, dtype: int64"
            ]
          },
          "metadata": {
            "tags": []
          },
          "execution_count": 9
        }
      ]
    },
    {
      "cell_type": "code",
      "metadata": {
        "colab": {
          "base_uri": "https://localhost:8080/"
        },
        "id": "CmVDsirPP0m5",
        "outputId": "a7c3668f-f9ed-4dc3-fbb0-ace4edad3a7f"
      },
      "source": [
        "data['Country'].value_counts()"
      ],
      "execution_count": null,
      "outputs": [
        {
          "output_type": "execute_result",
          "data": {
            "text/plain": [
              "United Kingdom          495478\n",
              "Germany                   9495\n",
              "France                    8557\n",
              "EIRE                      8196\n",
              "Spain                     2533\n",
              "Netherlands               2371\n",
              "Belgium                   2069\n",
              "Switzerland               2002\n",
              "Portugal                  1519\n",
              "Australia                 1259\n",
              "Norway                    1086\n",
              "Italy                      803\n",
              "Channel Islands            758\n",
              "Finland                    695\n",
              "Cyprus                     622\n",
              "Sweden                     462\n",
              "Unspecified                446\n",
              "Austria                    401\n",
              "Denmark                    389\n",
              "Japan                      358\n",
              "Poland                     341\n",
              "Israel                     297\n",
              "USA                        291\n",
              "Hong Kong                  288\n",
              "Singapore                  229\n",
              "Iceland                    182\n",
              "Canada                     151\n",
              "Greece                     146\n",
              "Malta                      127\n",
              "United Arab Emirates        68\n",
              "European Community          61\n",
              "RSA                         58\n",
              "Lebanon                     45\n",
              "Lithuania                   35\n",
              "Brazil                      32\n",
              "Czech Republic              30\n",
              "Bahrain                     19\n",
              "Saudi Arabia                10\n",
              "Name: Country, dtype: int64"
            ]
          },
          "metadata": {
            "tags": []
          },
          "execution_count": 10
        }
      ]
    },
    {
      "cell_type": "code",
      "metadata": {
        "colab": {
          "base_uri": "https://localhost:8080/",
          "height": 419
        },
        "id": "VXjaANwsSq9U",
        "outputId": "ba0f649b-9a93-432b-a409-8a7bcc1b9e83"
      },
      "source": [
        "data_2 = data[data['CustomerID'].isna()]\n",
        "data_2"
      ],
      "execution_count": null,
      "outputs": [
        {
          "output_type": "execute_result",
          "data": {
            "text/html": [
              "<div>\n",
              "<style scoped>\n",
              "    .dataframe tbody tr th:only-of-type {\n",
              "        vertical-align: middle;\n",
              "    }\n",
              "\n",
              "    .dataframe tbody tr th {\n",
              "        vertical-align: top;\n",
              "    }\n",
              "\n",
              "    .dataframe thead th {\n",
              "        text-align: right;\n",
              "    }\n",
              "</style>\n",
              "<table border=\"1\" class=\"dataframe\">\n",
              "  <thead>\n",
              "    <tr style=\"text-align: right;\">\n",
              "      <th></th>\n",
              "      <th>InvoiceNo</th>\n",
              "      <th>StockCode</th>\n",
              "      <th>Description</th>\n",
              "      <th>Quantity</th>\n",
              "      <th>InvoiceDate</th>\n",
              "      <th>UnitPrice</th>\n",
              "      <th>CustomerID</th>\n",
              "      <th>Country</th>\n",
              "    </tr>\n",
              "  </thead>\n",
              "  <tbody>\n",
              "    <tr>\n",
              "      <th>622</th>\n",
              "      <td>536414</td>\n",
              "      <td>22139</td>\n",
              "      <td>NaN</td>\n",
              "      <td>56</td>\n",
              "      <td>12/1/2010 11:52</td>\n",
              "      <td>0.00</td>\n",
              "      <td>NaN</td>\n",
              "      <td>United Kingdom</td>\n",
              "    </tr>\n",
              "    <tr>\n",
              "      <th>1443</th>\n",
              "      <td>536544</td>\n",
              "      <td>21773</td>\n",
              "      <td>DECORATIVE ROSE BATHROOM BOTTLE</td>\n",
              "      <td>1</td>\n",
              "      <td>12/1/2010 14:32</td>\n",
              "      <td>2.51</td>\n",
              "      <td>NaN</td>\n",
              "      <td>United Kingdom</td>\n",
              "    </tr>\n",
              "    <tr>\n",
              "      <th>1444</th>\n",
              "      <td>536544</td>\n",
              "      <td>21774</td>\n",
              "      <td>DECORATIVE CATS BATHROOM BOTTLE</td>\n",
              "      <td>2</td>\n",
              "      <td>12/1/2010 14:32</td>\n",
              "      <td>2.51</td>\n",
              "      <td>NaN</td>\n",
              "      <td>United Kingdom</td>\n",
              "    </tr>\n",
              "    <tr>\n",
              "      <th>1445</th>\n",
              "      <td>536544</td>\n",
              "      <td>21786</td>\n",
              "      <td>POLKADOT RAIN HAT</td>\n",
              "      <td>4</td>\n",
              "      <td>12/1/2010 14:32</td>\n",
              "      <td>0.85</td>\n",
              "      <td>NaN</td>\n",
              "      <td>United Kingdom</td>\n",
              "    </tr>\n",
              "    <tr>\n",
              "      <th>1446</th>\n",
              "      <td>536544</td>\n",
              "      <td>21787</td>\n",
              "      <td>RAIN PONCHO RETROSPOT</td>\n",
              "      <td>2</td>\n",
              "      <td>12/1/2010 14:32</td>\n",
              "      <td>1.66</td>\n",
              "      <td>NaN</td>\n",
              "      <td>United Kingdom</td>\n",
              "    </tr>\n",
              "    <tr>\n",
              "      <th>...</th>\n",
              "      <td>...</td>\n",
              "      <td>...</td>\n",
              "      <td>...</td>\n",
              "      <td>...</td>\n",
              "      <td>...</td>\n",
              "      <td>...</td>\n",
              "      <td>...</td>\n",
              "      <td>...</td>\n",
              "    </tr>\n",
              "    <tr>\n",
              "      <th>541536</th>\n",
              "      <td>581498</td>\n",
              "      <td>85099B</td>\n",
              "      <td>JUMBO BAG RED RETROSPOT</td>\n",
              "      <td>5</td>\n",
              "      <td>12/9/2011 10:26</td>\n",
              "      <td>4.13</td>\n",
              "      <td>NaN</td>\n",
              "      <td>United Kingdom</td>\n",
              "    </tr>\n",
              "    <tr>\n",
              "      <th>541537</th>\n",
              "      <td>581498</td>\n",
              "      <td>85099C</td>\n",
              "      <td>JUMBO  BAG BAROQUE BLACK WHITE</td>\n",
              "      <td>4</td>\n",
              "      <td>12/9/2011 10:26</td>\n",
              "      <td>4.13</td>\n",
              "      <td>NaN</td>\n",
              "      <td>United Kingdom</td>\n",
              "    </tr>\n",
              "    <tr>\n",
              "      <th>541538</th>\n",
              "      <td>581498</td>\n",
              "      <td>85150</td>\n",
              "      <td>LADIES &amp; GENTLEMEN METAL SIGN</td>\n",
              "      <td>1</td>\n",
              "      <td>12/9/2011 10:26</td>\n",
              "      <td>4.96</td>\n",
              "      <td>NaN</td>\n",
              "      <td>United Kingdom</td>\n",
              "    </tr>\n",
              "    <tr>\n",
              "      <th>541539</th>\n",
              "      <td>581498</td>\n",
              "      <td>85174</td>\n",
              "      <td>S/4 CACTI CANDLES</td>\n",
              "      <td>1</td>\n",
              "      <td>12/9/2011 10:26</td>\n",
              "      <td>10.79</td>\n",
              "      <td>NaN</td>\n",
              "      <td>United Kingdom</td>\n",
              "    </tr>\n",
              "    <tr>\n",
              "      <th>541540</th>\n",
              "      <td>581498</td>\n",
              "      <td>DOT</td>\n",
              "      <td>DOTCOM POSTAGE</td>\n",
              "      <td>1</td>\n",
              "      <td>12/9/2011 10:26</td>\n",
              "      <td>1714.17</td>\n",
              "      <td>NaN</td>\n",
              "      <td>United Kingdom</td>\n",
              "    </tr>\n",
              "  </tbody>\n",
              "</table>\n",
              "<p>135080 rows × 8 columns</p>\n",
              "</div>"
            ],
            "text/plain": [
              "       InvoiceNo StockCode  ... CustomerID         Country\n",
              "622       536414     22139  ...        NaN  United Kingdom\n",
              "1443      536544     21773  ...        NaN  United Kingdom\n",
              "1444      536544     21774  ...        NaN  United Kingdom\n",
              "1445      536544     21786  ...        NaN  United Kingdom\n",
              "1446      536544     21787  ...        NaN  United Kingdom\n",
              "...          ...       ...  ...        ...             ...\n",
              "541536    581498    85099B  ...        NaN  United Kingdom\n",
              "541537    581498    85099C  ...        NaN  United Kingdom\n",
              "541538    581498     85150  ...        NaN  United Kingdom\n",
              "541539    581498     85174  ...        NaN  United Kingdom\n",
              "541540    581498       DOT  ...        NaN  United Kingdom\n",
              "\n",
              "[135080 rows x 8 columns]"
            ]
          },
          "metadata": {
            "tags": []
          },
          "execution_count": 11
        }
      ]
    },
    {
      "cell_type": "code",
      "metadata": {
        "colab": {
          "base_uri": "https://localhost:8080/",
          "height": 419
        },
        "id": "157PQgJHTkkl",
        "outputId": "a267151b-97a0-4f22-f1cc-2e2d3e19796d"
      },
      "source": [
        "data_2 = data[data['Description'].isna()]\n",
        "data_2"
      ],
      "execution_count": null,
      "outputs": [
        {
          "output_type": "execute_result",
          "data": {
            "text/html": [
              "<div>\n",
              "<style scoped>\n",
              "    .dataframe tbody tr th:only-of-type {\n",
              "        vertical-align: middle;\n",
              "    }\n",
              "\n",
              "    .dataframe tbody tr th {\n",
              "        vertical-align: top;\n",
              "    }\n",
              "\n",
              "    .dataframe thead th {\n",
              "        text-align: right;\n",
              "    }\n",
              "</style>\n",
              "<table border=\"1\" class=\"dataframe\">\n",
              "  <thead>\n",
              "    <tr style=\"text-align: right;\">\n",
              "      <th></th>\n",
              "      <th>InvoiceNo</th>\n",
              "      <th>StockCode</th>\n",
              "      <th>Description</th>\n",
              "      <th>Quantity</th>\n",
              "      <th>InvoiceDate</th>\n",
              "      <th>UnitPrice</th>\n",
              "      <th>CustomerID</th>\n",
              "      <th>Country</th>\n",
              "    </tr>\n",
              "  </thead>\n",
              "  <tbody>\n",
              "    <tr>\n",
              "      <th>622</th>\n",
              "      <td>536414</td>\n",
              "      <td>22139</td>\n",
              "      <td>NaN</td>\n",
              "      <td>56</td>\n",
              "      <td>12/1/2010 11:52</td>\n",
              "      <td>0.0</td>\n",
              "      <td>NaN</td>\n",
              "      <td>United Kingdom</td>\n",
              "    </tr>\n",
              "    <tr>\n",
              "      <th>1970</th>\n",
              "      <td>536545</td>\n",
              "      <td>21134</td>\n",
              "      <td>NaN</td>\n",
              "      <td>1</td>\n",
              "      <td>12/1/2010 14:32</td>\n",
              "      <td>0.0</td>\n",
              "      <td>NaN</td>\n",
              "      <td>United Kingdom</td>\n",
              "    </tr>\n",
              "    <tr>\n",
              "      <th>1971</th>\n",
              "      <td>536546</td>\n",
              "      <td>22145</td>\n",
              "      <td>NaN</td>\n",
              "      <td>1</td>\n",
              "      <td>12/1/2010 14:33</td>\n",
              "      <td>0.0</td>\n",
              "      <td>NaN</td>\n",
              "      <td>United Kingdom</td>\n",
              "    </tr>\n",
              "    <tr>\n",
              "      <th>1972</th>\n",
              "      <td>536547</td>\n",
              "      <td>37509</td>\n",
              "      <td>NaN</td>\n",
              "      <td>1</td>\n",
              "      <td>12/1/2010 14:33</td>\n",
              "      <td>0.0</td>\n",
              "      <td>NaN</td>\n",
              "      <td>United Kingdom</td>\n",
              "    </tr>\n",
              "    <tr>\n",
              "      <th>1987</th>\n",
              "      <td>536549</td>\n",
              "      <td>85226A</td>\n",
              "      <td>NaN</td>\n",
              "      <td>1</td>\n",
              "      <td>12/1/2010 14:34</td>\n",
              "      <td>0.0</td>\n",
              "      <td>NaN</td>\n",
              "      <td>United Kingdom</td>\n",
              "    </tr>\n",
              "    <tr>\n",
              "      <th>...</th>\n",
              "      <td>...</td>\n",
              "      <td>...</td>\n",
              "      <td>...</td>\n",
              "      <td>...</td>\n",
              "      <td>...</td>\n",
              "      <td>...</td>\n",
              "      <td>...</td>\n",
              "      <td>...</td>\n",
              "    </tr>\n",
              "    <tr>\n",
              "      <th>535322</th>\n",
              "      <td>581199</td>\n",
              "      <td>84581</td>\n",
              "      <td>NaN</td>\n",
              "      <td>-2</td>\n",
              "      <td>12/7/2011 18:26</td>\n",
              "      <td>0.0</td>\n",
              "      <td>NaN</td>\n",
              "      <td>United Kingdom</td>\n",
              "    </tr>\n",
              "    <tr>\n",
              "      <th>535326</th>\n",
              "      <td>581203</td>\n",
              "      <td>23406</td>\n",
              "      <td>NaN</td>\n",
              "      <td>15</td>\n",
              "      <td>12/7/2011 18:31</td>\n",
              "      <td>0.0</td>\n",
              "      <td>NaN</td>\n",
              "      <td>United Kingdom</td>\n",
              "    </tr>\n",
              "    <tr>\n",
              "      <th>535332</th>\n",
              "      <td>581209</td>\n",
              "      <td>21620</td>\n",
              "      <td>NaN</td>\n",
              "      <td>6</td>\n",
              "      <td>12/7/2011 18:35</td>\n",
              "      <td>0.0</td>\n",
              "      <td>NaN</td>\n",
              "      <td>United Kingdom</td>\n",
              "    </tr>\n",
              "    <tr>\n",
              "      <th>536981</th>\n",
              "      <td>581234</td>\n",
              "      <td>72817</td>\n",
              "      <td>NaN</td>\n",
              "      <td>27</td>\n",
              "      <td>12/8/2011 10:33</td>\n",
              "      <td>0.0</td>\n",
              "      <td>NaN</td>\n",
              "      <td>United Kingdom</td>\n",
              "    </tr>\n",
              "    <tr>\n",
              "      <th>538554</th>\n",
              "      <td>581408</td>\n",
              "      <td>85175</td>\n",
              "      <td>NaN</td>\n",
              "      <td>20</td>\n",
              "      <td>12/8/2011 14:06</td>\n",
              "      <td>0.0</td>\n",
              "      <td>NaN</td>\n",
              "      <td>United Kingdom</td>\n",
              "    </tr>\n",
              "  </tbody>\n",
              "</table>\n",
              "<p>1454 rows × 8 columns</p>\n",
              "</div>"
            ],
            "text/plain": [
              "       InvoiceNo StockCode Description  ...  UnitPrice CustomerID         Country\n",
              "622       536414     22139         NaN  ...        0.0        NaN  United Kingdom\n",
              "1970      536545     21134         NaN  ...        0.0        NaN  United Kingdom\n",
              "1971      536546     22145         NaN  ...        0.0        NaN  United Kingdom\n",
              "1972      536547     37509         NaN  ...        0.0        NaN  United Kingdom\n",
              "1987      536549    85226A         NaN  ...        0.0        NaN  United Kingdom\n",
              "...          ...       ...         ...  ...        ...        ...             ...\n",
              "535322    581199     84581         NaN  ...        0.0        NaN  United Kingdom\n",
              "535326    581203     23406         NaN  ...        0.0        NaN  United Kingdom\n",
              "535332    581209     21620         NaN  ...        0.0        NaN  United Kingdom\n",
              "536981    581234     72817         NaN  ...        0.0        NaN  United Kingdom\n",
              "538554    581408     85175         NaN  ...        0.0        NaN  United Kingdom\n",
              "\n",
              "[1454 rows x 8 columns]"
            ]
          },
          "metadata": {
            "tags": []
          },
          "execution_count": 12
        }
      ]
    },
    {
      "cell_type": "code",
      "metadata": {
        "id": "ISbDSn5OZqKc"
      },
      "source": [
        "del data_2"
      ],
      "execution_count": null,
      "outputs": []
    },
    {
      "cell_type": "code",
      "metadata": {
        "id": "izOs8268TDuC"
      },
      "source": [
        "#remove rows containing NaN customer Ids and Descriptions \n",
        "\n",
        "data.dropna(axis=0,how='any',inplace=True)"
      ],
      "execution_count": null,
      "outputs": []
    },
    {
      "cell_type": "code",
      "metadata": {
        "colab": {
          "base_uri": "https://localhost:8080/"
        },
        "id": "Uh44znmET8q1",
        "outputId": "287332d2-bbd3-4c1e-df73-a65089bf63e4"
      },
      "source": [
        "data.isna().sum()"
      ],
      "execution_count": null,
      "outputs": [
        {
          "output_type": "execute_result",
          "data": {
            "text/plain": [
              "InvoiceNo      0\n",
              "StockCode      0\n",
              "Description    0\n",
              "Quantity       0\n",
              "InvoiceDate    0\n",
              "UnitPrice      0\n",
              "CustomerID     0\n",
              "Country        0\n",
              "dtype: int64"
            ]
          },
          "metadata": {
            "tags": []
          },
          "execution_count": 15
        }
      ]
    },
    {
      "cell_type": "code",
      "metadata": {
        "colab": {
          "base_uri": "https://localhost:8080/",
          "height": 606
        },
        "id": "tDR8OtKvTWR0",
        "outputId": "874324c6-24fe-459e-9ce7-9e8a3f835239"
      },
      "source": [
        "data_customer = data[['CustomerID','InvoiceDate']]\n",
        "data_customer['Last_Buying_Date'] = pd.to_datetime(data_customer.InvoiceDate)\n",
        "data_customer.drop(labels='InvoiceDate',axis=1,inplace=True)\n",
        "data_customer_recency = data_customer.groupby(by='CustomerID').Last_Buying_Date.max().reset_index()\n",
        "data_customer_recency.columns = ['CustomerID','Last_Buying_Date']\n",
        "del data_customer\n",
        "data_customer_recency"
      ],
      "execution_count": null,
      "outputs": [
        {
          "output_type": "stream",
          "text": [
            "/usr/local/lib/python3.7/dist-packages/ipykernel_launcher.py:2: SettingWithCopyWarning: \n",
            "A value is trying to be set on a copy of a slice from a DataFrame.\n",
            "Try using .loc[row_indexer,col_indexer] = value instead\n",
            "\n",
            "See the caveats in the documentation: https://pandas.pydata.org/pandas-docs/stable/user_guide/indexing.html#returning-a-view-versus-a-copy\n",
            "  \n",
            "/usr/local/lib/python3.7/dist-packages/pandas/core/frame.py:4174: SettingWithCopyWarning: \n",
            "A value is trying to be set on a copy of a slice from a DataFrame\n",
            "\n",
            "See the caveats in the documentation: https://pandas.pydata.org/pandas-docs/stable/user_guide/indexing.html#returning-a-view-versus-a-copy\n",
            "  errors=errors,\n"
          ],
          "name": "stderr"
        },
        {
          "output_type": "execute_result",
          "data": {
            "text/html": [
              "<div>\n",
              "<style scoped>\n",
              "    .dataframe tbody tr th:only-of-type {\n",
              "        vertical-align: middle;\n",
              "    }\n",
              "\n",
              "    .dataframe tbody tr th {\n",
              "        vertical-align: top;\n",
              "    }\n",
              "\n",
              "    .dataframe thead th {\n",
              "        text-align: right;\n",
              "    }\n",
              "</style>\n",
              "<table border=\"1\" class=\"dataframe\">\n",
              "  <thead>\n",
              "    <tr style=\"text-align: right;\">\n",
              "      <th></th>\n",
              "      <th>CustomerID</th>\n",
              "      <th>Last_Buying_Date</th>\n",
              "    </tr>\n",
              "  </thead>\n",
              "  <tbody>\n",
              "    <tr>\n",
              "      <th>0</th>\n",
              "      <td>12346</td>\n",
              "      <td>2011-01-18 10:17:00</td>\n",
              "    </tr>\n",
              "    <tr>\n",
              "      <th>1</th>\n",
              "      <td>12347</td>\n",
              "      <td>2011-12-07 15:52:00</td>\n",
              "    </tr>\n",
              "    <tr>\n",
              "      <th>2</th>\n",
              "      <td>12348</td>\n",
              "      <td>2011-09-25 13:13:00</td>\n",
              "    </tr>\n",
              "    <tr>\n",
              "      <th>3</th>\n",
              "      <td>12349</td>\n",
              "      <td>2011-11-21 09:51:00</td>\n",
              "    </tr>\n",
              "    <tr>\n",
              "      <th>4</th>\n",
              "      <td>12350</td>\n",
              "      <td>2011-02-02 16:01:00</td>\n",
              "    </tr>\n",
              "    <tr>\n",
              "      <th>...</th>\n",
              "      <td>...</td>\n",
              "      <td>...</td>\n",
              "    </tr>\n",
              "    <tr>\n",
              "      <th>4367</th>\n",
              "      <td>18280</td>\n",
              "      <td>2011-03-07 09:52:00</td>\n",
              "    </tr>\n",
              "    <tr>\n",
              "      <th>4368</th>\n",
              "      <td>18281</td>\n",
              "      <td>2011-06-12 10:53:00</td>\n",
              "    </tr>\n",
              "    <tr>\n",
              "      <th>4369</th>\n",
              "      <td>18282</td>\n",
              "      <td>2011-12-02 11:43:00</td>\n",
              "    </tr>\n",
              "    <tr>\n",
              "      <th>4370</th>\n",
              "      <td>18283</td>\n",
              "      <td>2011-12-06 12:02:00</td>\n",
              "    </tr>\n",
              "    <tr>\n",
              "      <th>4371</th>\n",
              "      <td>18287</td>\n",
              "      <td>2011-10-28 09:29:00</td>\n",
              "    </tr>\n",
              "  </tbody>\n",
              "</table>\n",
              "<p>4372 rows × 2 columns</p>\n",
              "</div>"
            ],
            "text/plain": [
              "     CustomerID    Last_Buying_Date\n",
              "0         12346 2011-01-18 10:17:00\n",
              "1         12347 2011-12-07 15:52:00\n",
              "2         12348 2011-09-25 13:13:00\n",
              "3         12349 2011-11-21 09:51:00\n",
              "4         12350 2011-02-02 16:01:00\n",
              "...         ...                 ...\n",
              "4367      18280 2011-03-07 09:52:00\n",
              "4368      18281 2011-06-12 10:53:00\n",
              "4369      18282 2011-12-02 11:43:00\n",
              "4370      18283 2011-12-06 12:02:00\n",
              "4371      18287 2011-10-28 09:29:00\n",
              "\n",
              "[4372 rows x 2 columns]"
            ]
          },
          "metadata": {
            "tags": []
          },
          "execution_count": 16
        }
      ]
    },
    {
      "cell_type": "code",
      "metadata": {
        "colab": {
          "base_uri": "https://localhost:8080/",
          "height": 419
        },
        "id": "QRnyubojXz6Q",
        "outputId": "711f5989-3f0c-4b50-e7a3-7da7a8e17a01"
      },
      "source": [
        "data = data.join(data_customer_recency.set_index('CustomerID'),on='CustomerID')\n",
        "data"
      ],
      "execution_count": null,
      "outputs": [
        {
          "output_type": "execute_result",
          "data": {
            "text/html": [
              "<div>\n",
              "<style scoped>\n",
              "    .dataframe tbody tr th:only-of-type {\n",
              "        vertical-align: middle;\n",
              "    }\n",
              "\n",
              "    .dataframe tbody tr th {\n",
              "        vertical-align: top;\n",
              "    }\n",
              "\n",
              "    .dataframe thead th {\n",
              "        text-align: right;\n",
              "    }\n",
              "</style>\n",
              "<table border=\"1\" class=\"dataframe\">\n",
              "  <thead>\n",
              "    <tr style=\"text-align: right;\">\n",
              "      <th></th>\n",
              "      <th>InvoiceNo</th>\n",
              "      <th>StockCode</th>\n",
              "      <th>Description</th>\n",
              "      <th>Quantity</th>\n",
              "      <th>InvoiceDate</th>\n",
              "      <th>UnitPrice</th>\n",
              "      <th>CustomerID</th>\n",
              "      <th>Country</th>\n",
              "      <th>Last_Buying_Date</th>\n",
              "    </tr>\n",
              "  </thead>\n",
              "  <tbody>\n",
              "    <tr>\n",
              "      <th>0</th>\n",
              "      <td>536365</td>\n",
              "      <td>85123A</td>\n",
              "      <td>WHITE HANGING HEART T-LIGHT HOLDER</td>\n",
              "      <td>6</td>\n",
              "      <td>12/1/2010 8:26</td>\n",
              "      <td>2.55</td>\n",
              "      <td>17850</td>\n",
              "      <td>United Kingdom</td>\n",
              "      <td>2011-02-10 14:38:00</td>\n",
              "    </tr>\n",
              "    <tr>\n",
              "      <th>1</th>\n",
              "      <td>536365</td>\n",
              "      <td>71053</td>\n",
              "      <td>WHITE METAL LANTERN</td>\n",
              "      <td>6</td>\n",
              "      <td>12/1/2010 8:26</td>\n",
              "      <td>3.39</td>\n",
              "      <td>17850</td>\n",
              "      <td>United Kingdom</td>\n",
              "      <td>2011-02-10 14:38:00</td>\n",
              "    </tr>\n",
              "    <tr>\n",
              "      <th>2</th>\n",
              "      <td>536365</td>\n",
              "      <td>84406B</td>\n",
              "      <td>CREAM CUPID HEARTS COAT HANGER</td>\n",
              "      <td>8</td>\n",
              "      <td>12/1/2010 8:26</td>\n",
              "      <td>2.75</td>\n",
              "      <td>17850</td>\n",
              "      <td>United Kingdom</td>\n",
              "      <td>2011-02-10 14:38:00</td>\n",
              "    </tr>\n",
              "    <tr>\n",
              "      <th>3</th>\n",
              "      <td>536365</td>\n",
              "      <td>84029G</td>\n",
              "      <td>KNITTED UNION FLAG HOT WATER BOTTLE</td>\n",
              "      <td>6</td>\n",
              "      <td>12/1/2010 8:26</td>\n",
              "      <td>3.39</td>\n",
              "      <td>17850</td>\n",
              "      <td>United Kingdom</td>\n",
              "      <td>2011-02-10 14:38:00</td>\n",
              "    </tr>\n",
              "    <tr>\n",
              "      <th>4</th>\n",
              "      <td>536365</td>\n",
              "      <td>84029E</td>\n",
              "      <td>RED WOOLLY HOTTIE WHITE HEART.</td>\n",
              "      <td>6</td>\n",
              "      <td>12/1/2010 8:26</td>\n",
              "      <td>3.39</td>\n",
              "      <td>17850</td>\n",
              "      <td>United Kingdom</td>\n",
              "      <td>2011-02-10 14:38:00</td>\n",
              "    </tr>\n",
              "    <tr>\n",
              "      <th>...</th>\n",
              "      <td>...</td>\n",
              "      <td>...</td>\n",
              "      <td>...</td>\n",
              "      <td>...</td>\n",
              "      <td>...</td>\n",
              "      <td>...</td>\n",
              "      <td>...</td>\n",
              "      <td>...</td>\n",
              "      <td>...</td>\n",
              "    </tr>\n",
              "    <tr>\n",
              "      <th>541904</th>\n",
              "      <td>581587</td>\n",
              "      <td>22613</td>\n",
              "      <td>PACK OF 20 SPACEBOY NAPKINS</td>\n",
              "      <td>12</td>\n",
              "      <td>12/9/2011 12:50</td>\n",
              "      <td>0.85</td>\n",
              "      <td>12680</td>\n",
              "      <td>France</td>\n",
              "      <td>2011-12-09 12:50:00</td>\n",
              "    </tr>\n",
              "    <tr>\n",
              "      <th>541905</th>\n",
              "      <td>581587</td>\n",
              "      <td>22899</td>\n",
              "      <td>CHILDREN'S APRON DOLLY GIRL</td>\n",
              "      <td>6</td>\n",
              "      <td>12/9/2011 12:50</td>\n",
              "      <td>2.10</td>\n",
              "      <td>12680</td>\n",
              "      <td>France</td>\n",
              "      <td>2011-12-09 12:50:00</td>\n",
              "    </tr>\n",
              "    <tr>\n",
              "      <th>541906</th>\n",
              "      <td>581587</td>\n",
              "      <td>23254</td>\n",
              "      <td>CHILDRENS CUTLERY DOLLY GIRL</td>\n",
              "      <td>4</td>\n",
              "      <td>12/9/2011 12:50</td>\n",
              "      <td>4.15</td>\n",
              "      <td>12680</td>\n",
              "      <td>France</td>\n",
              "      <td>2011-12-09 12:50:00</td>\n",
              "    </tr>\n",
              "    <tr>\n",
              "      <th>541907</th>\n",
              "      <td>581587</td>\n",
              "      <td>23255</td>\n",
              "      <td>CHILDRENS CUTLERY CIRCUS PARADE</td>\n",
              "      <td>4</td>\n",
              "      <td>12/9/2011 12:50</td>\n",
              "      <td>4.15</td>\n",
              "      <td>12680</td>\n",
              "      <td>France</td>\n",
              "      <td>2011-12-09 12:50:00</td>\n",
              "    </tr>\n",
              "    <tr>\n",
              "      <th>541908</th>\n",
              "      <td>581587</td>\n",
              "      <td>22138</td>\n",
              "      <td>BAKING SET 9 PIECE RETROSPOT</td>\n",
              "      <td>3</td>\n",
              "      <td>12/9/2011 12:50</td>\n",
              "      <td>4.95</td>\n",
              "      <td>12680</td>\n",
              "      <td>France</td>\n",
              "      <td>2011-12-09 12:50:00</td>\n",
              "    </tr>\n",
              "  </tbody>\n",
              "</table>\n",
              "<p>406829 rows × 9 columns</p>\n",
              "</div>"
            ],
            "text/plain": [
              "       InvoiceNo StockCode  ...         Country    Last_Buying_Date\n",
              "0         536365    85123A  ...  United Kingdom 2011-02-10 14:38:00\n",
              "1         536365     71053  ...  United Kingdom 2011-02-10 14:38:00\n",
              "2         536365    84406B  ...  United Kingdom 2011-02-10 14:38:00\n",
              "3         536365    84029G  ...  United Kingdom 2011-02-10 14:38:00\n",
              "4         536365    84029E  ...  United Kingdom 2011-02-10 14:38:00\n",
              "...          ...       ...  ...             ...                 ...\n",
              "541904    581587     22613  ...          France 2011-12-09 12:50:00\n",
              "541905    581587     22899  ...          France 2011-12-09 12:50:00\n",
              "541906    581587     23254  ...          France 2011-12-09 12:50:00\n",
              "541907    581587     23255  ...          France 2011-12-09 12:50:00\n",
              "541908    581587     22138  ...          France 2011-12-09 12:50:00\n",
              "\n",
              "[406829 rows x 9 columns]"
            ]
          },
          "metadata": {
            "tags": []
          },
          "execution_count": 17
        }
      ]
    },
    {
      "cell_type": "code",
      "metadata": {
        "colab": {
          "base_uri": "https://localhost:8080/",
          "height": 419
        },
        "id": "2TJpmrNnYkgV",
        "outputId": "fdc9a6ec-6ac8-4b12-8743-ffd454d793df"
      },
      "source": [
        "data['InvoiceDate'] = pd.to_datetime(data.InvoiceDate)\n",
        "data"
      ],
      "execution_count": null,
      "outputs": [
        {
          "output_type": "execute_result",
          "data": {
            "text/html": [
              "<div>\n",
              "<style scoped>\n",
              "    .dataframe tbody tr th:only-of-type {\n",
              "        vertical-align: middle;\n",
              "    }\n",
              "\n",
              "    .dataframe tbody tr th {\n",
              "        vertical-align: top;\n",
              "    }\n",
              "\n",
              "    .dataframe thead th {\n",
              "        text-align: right;\n",
              "    }\n",
              "</style>\n",
              "<table border=\"1\" class=\"dataframe\">\n",
              "  <thead>\n",
              "    <tr style=\"text-align: right;\">\n",
              "      <th></th>\n",
              "      <th>InvoiceNo</th>\n",
              "      <th>StockCode</th>\n",
              "      <th>Description</th>\n",
              "      <th>Quantity</th>\n",
              "      <th>InvoiceDate</th>\n",
              "      <th>UnitPrice</th>\n",
              "      <th>CustomerID</th>\n",
              "      <th>Country</th>\n",
              "      <th>Last_Buying_Date</th>\n",
              "    </tr>\n",
              "  </thead>\n",
              "  <tbody>\n",
              "    <tr>\n",
              "      <th>0</th>\n",
              "      <td>536365</td>\n",
              "      <td>85123A</td>\n",
              "      <td>WHITE HANGING HEART T-LIGHT HOLDER</td>\n",
              "      <td>6</td>\n",
              "      <td>2010-12-01 08:26:00</td>\n",
              "      <td>2.55</td>\n",
              "      <td>17850</td>\n",
              "      <td>United Kingdom</td>\n",
              "      <td>2011-02-10 14:38:00</td>\n",
              "    </tr>\n",
              "    <tr>\n",
              "      <th>1</th>\n",
              "      <td>536365</td>\n",
              "      <td>71053</td>\n",
              "      <td>WHITE METAL LANTERN</td>\n",
              "      <td>6</td>\n",
              "      <td>2010-12-01 08:26:00</td>\n",
              "      <td>3.39</td>\n",
              "      <td>17850</td>\n",
              "      <td>United Kingdom</td>\n",
              "      <td>2011-02-10 14:38:00</td>\n",
              "    </tr>\n",
              "    <tr>\n",
              "      <th>2</th>\n",
              "      <td>536365</td>\n",
              "      <td>84406B</td>\n",
              "      <td>CREAM CUPID HEARTS COAT HANGER</td>\n",
              "      <td>8</td>\n",
              "      <td>2010-12-01 08:26:00</td>\n",
              "      <td>2.75</td>\n",
              "      <td>17850</td>\n",
              "      <td>United Kingdom</td>\n",
              "      <td>2011-02-10 14:38:00</td>\n",
              "    </tr>\n",
              "    <tr>\n",
              "      <th>3</th>\n",
              "      <td>536365</td>\n",
              "      <td>84029G</td>\n",
              "      <td>KNITTED UNION FLAG HOT WATER BOTTLE</td>\n",
              "      <td>6</td>\n",
              "      <td>2010-12-01 08:26:00</td>\n",
              "      <td>3.39</td>\n",
              "      <td>17850</td>\n",
              "      <td>United Kingdom</td>\n",
              "      <td>2011-02-10 14:38:00</td>\n",
              "    </tr>\n",
              "    <tr>\n",
              "      <th>4</th>\n",
              "      <td>536365</td>\n",
              "      <td>84029E</td>\n",
              "      <td>RED WOOLLY HOTTIE WHITE HEART.</td>\n",
              "      <td>6</td>\n",
              "      <td>2010-12-01 08:26:00</td>\n",
              "      <td>3.39</td>\n",
              "      <td>17850</td>\n",
              "      <td>United Kingdom</td>\n",
              "      <td>2011-02-10 14:38:00</td>\n",
              "    </tr>\n",
              "    <tr>\n",
              "      <th>...</th>\n",
              "      <td>...</td>\n",
              "      <td>...</td>\n",
              "      <td>...</td>\n",
              "      <td>...</td>\n",
              "      <td>...</td>\n",
              "      <td>...</td>\n",
              "      <td>...</td>\n",
              "      <td>...</td>\n",
              "      <td>...</td>\n",
              "    </tr>\n",
              "    <tr>\n",
              "      <th>541904</th>\n",
              "      <td>581587</td>\n",
              "      <td>22613</td>\n",
              "      <td>PACK OF 20 SPACEBOY NAPKINS</td>\n",
              "      <td>12</td>\n",
              "      <td>2011-12-09 12:50:00</td>\n",
              "      <td>0.85</td>\n",
              "      <td>12680</td>\n",
              "      <td>France</td>\n",
              "      <td>2011-12-09 12:50:00</td>\n",
              "    </tr>\n",
              "    <tr>\n",
              "      <th>541905</th>\n",
              "      <td>581587</td>\n",
              "      <td>22899</td>\n",
              "      <td>CHILDREN'S APRON DOLLY GIRL</td>\n",
              "      <td>6</td>\n",
              "      <td>2011-12-09 12:50:00</td>\n",
              "      <td>2.10</td>\n",
              "      <td>12680</td>\n",
              "      <td>France</td>\n",
              "      <td>2011-12-09 12:50:00</td>\n",
              "    </tr>\n",
              "    <tr>\n",
              "      <th>541906</th>\n",
              "      <td>581587</td>\n",
              "      <td>23254</td>\n",
              "      <td>CHILDRENS CUTLERY DOLLY GIRL</td>\n",
              "      <td>4</td>\n",
              "      <td>2011-12-09 12:50:00</td>\n",
              "      <td>4.15</td>\n",
              "      <td>12680</td>\n",
              "      <td>France</td>\n",
              "      <td>2011-12-09 12:50:00</td>\n",
              "    </tr>\n",
              "    <tr>\n",
              "      <th>541907</th>\n",
              "      <td>581587</td>\n",
              "      <td>23255</td>\n",
              "      <td>CHILDRENS CUTLERY CIRCUS PARADE</td>\n",
              "      <td>4</td>\n",
              "      <td>2011-12-09 12:50:00</td>\n",
              "      <td>4.15</td>\n",
              "      <td>12680</td>\n",
              "      <td>France</td>\n",
              "      <td>2011-12-09 12:50:00</td>\n",
              "    </tr>\n",
              "    <tr>\n",
              "      <th>541908</th>\n",
              "      <td>581587</td>\n",
              "      <td>22138</td>\n",
              "      <td>BAKING SET 9 PIECE RETROSPOT</td>\n",
              "      <td>3</td>\n",
              "      <td>2011-12-09 12:50:00</td>\n",
              "      <td>4.95</td>\n",
              "      <td>12680</td>\n",
              "      <td>France</td>\n",
              "      <td>2011-12-09 12:50:00</td>\n",
              "    </tr>\n",
              "  </tbody>\n",
              "</table>\n",
              "<p>406829 rows × 9 columns</p>\n",
              "</div>"
            ],
            "text/plain": [
              "       InvoiceNo StockCode  ...         Country    Last_Buying_Date\n",
              "0         536365    85123A  ...  United Kingdom 2011-02-10 14:38:00\n",
              "1         536365     71053  ...  United Kingdom 2011-02-10 14:38:00\n",
              "2         536365    84406B  ...  United Kingdom 2011-02-10 14:38:00\n",
              "3         536365    84029G  ...  United Kingdom 2011-02-10 14:38:00\n",
              "4         536365    84029E  ...  United Kingdom 2011-02-10 14:38:00\n",
              "...          ...       ...  ...             ...                 ...\n",
              "541904    581587     22613  ...          France 2011-12-09 12:50:00\n",
              "541905    581587     22899  ...          France 2011-12-09 12:50:00\n",
              "541906    581587     23254  ...          France 2011-12-09 12:50:00\n",
              "541907    581587     23255  ...          France 2011-12-09 12:50:00\n",
              "541908    581587     22138  ...          France 2011-12-09 12:50:00\n",
              "\n",
              "[406829 rows x 9 columns]"
            ]
          },
          "metadata": {
            "tags": []
          },
          "execution_count": 18
        }
      ]
    },
    {
      "cell_type": "code",
      "metadata": {
        "colab": {
          "base_uri": "https://localhost:8080/",
          "height": 289
        },
        "id": "ciTySN19bAS-",
        "outputId": "9ecf5ca7-2c78-4c3c-9209-dcbf13693809"
      },
      "source": [
        "data['Recency'] = data['Last_Buying_Date']-data['InvoiceDate']\n",
        "data.head()"
      ],
      "execution_count": null,
      "outputs": [
        {
          "output_type": "execute_result",
          "data": {
            "text/html": [
              "<div>\n",
              "<style scoped>\n",
              "    .dataframe tbody tr th:only-of-type {\n",
              "        vertical-align: middle;\n",
              "    }\n",
              "\n",
              "    .dataframe tbody tr th {\n",
              "        vertical-align: top;\n",
              "    }\n",
              "\n",
              "    .dataframe thead th {\n",
              "        text-align: right;\n",
              "    }\n",
              "</style>\n",
              "<table border=\"1\" class=\"dataframe\">\n",
              "  <thead>\n",
              "    <tr style=\"text-align: right;\">\n",
              "      <th></th>\n",
              "      <th>InvoiceNo</th>\n",
              "      <th>StockCode</th>\n",
              "      <th>Description</th>\n",
              "      <th>Quantity</th>\n",
              "      <th>InvoiceDate</th>\n",
              "      <th>UnitPrice</th>\n",
              "      <th>CustomerID</th>\n",
              "      <th>Country</th>\n",
              "      <th>Last_Buying_Date</th>\n",
              "      <th>Recency</th>\n",
              "    </tr>\n",
              "  </thead>\n",
              "  <tbody>\n",
              "    <tr>\n",
              "      <th>0</th>\n",
              "      <td>536365</td>\n",
              "      <td>85123A</td>\n",
              "      <td>WHITE HANGING HEART T-LIGHT HOLDER</td>\n",
              "      <td>6</td>\n",
              "      <td>2010-12-01 08:26:00</td>\n",
              "      <td>2.55</td>\n",
              "      <td>17850</td>\n",
              "      <td>United Kingdom</td>\n",
              "      <td>2011-02-10 14:38:00</td>\n",
              "      <td>71 days 06:12:00</td>\n",
              "    </tr>\n",
              "    <tr>\n",
              "      <th>1</th>\n",
              "      <td>536365</td>\n",
              "      <td>71053</td>\n",
              "      <td>WHITE METAL LANTERN</td>\n",
              "      <td>6</td>\n",
              "      <td>2010-12-01 08:26:00</td>\n",
              "      <td>3.39</td>\n",
              "      <td>17850</td>\n",
              "      <td>United Kingdom</td>\n",
              "      <td>2011-02-10 14:38:00</td>\n",
              "      <td>71 days 06:12:00</td>\n",
              "    </tr>\n",
              "    <tr>\n",
              "      <th>2</th>\n",
              "      <td>536365</td>\n",
              "      <td>84406B</td>\n",
              "      <td>CREAM CUPID HEARTS COAT HANGER</td>\n",
              "      <td>8</td>\n",
              "      <td>2010-12-01 08:26:00</td>\n",
              "      <td>2.75</td>\n",
              "      <td>17850</td>\n",
              "      <td>United Kingdom</td>\n",
              "      <td>2011-02-10 14:38:00</td>\n",
              "      <td>71 days 06:12:00</td>\n",
              "    </tr>\n",
              "    <tr>\n",
              "      <th>3</th>\n",
              "      <td>536365</td>\n",
              "      <td>84029G</td>\n",
              "      <td>KNITTED UNION FLAG HOT WATER BOTTLE</td>\n",
              "      <td>6</td>\n",
              "      <td>2010-12-01 08:26:00</td>\n",
              "      <td>3.39</td>\n",
              "      <td>17850</td>\n",
              "      <td>United Kingdom</td>\n",
              "      <td>2011-02-10 14:38:00</td>\n",
              "      <td>71 days 06:12:00</td>\n",
              "    </tr>\n",
              "    <tr>\n",
              "      <th>4</th>\n",
              "      <td>536365</td>\n",
              "      <td>84029E</td>\n",
              "      <td>RED WOOLLY HOTTIE WHITE HEART.</td>\n",
              "      <td>6</td>\n",
              "      <td>2010-12-01 08:26:00</td>\n",
              "      <td>3.39</td>\n",
              "      <td>17850</td>\n",
              "      <td>United Kingdom</td>\n",
              "      <td>2011-02-10 14:38:00</td>\n",
              "      <td>71 days 06:12:00</td>\n",
              "    </tr>\n",
              "  </tbody>\n",
              "</table>\n",
              "</div>"
            ],
            "text/plain": [
              "  InvoiceNo StockCode  ...    Last_Buying_Date          Recency\n",
              "0    536365    85123A  ... 2011-02-10 14:38:00 71 days 06:12:00\n",
              "1    536365     71053  ... 2011-02-10 14:38:00 71 days 06:12:00\n",
              "2    536365    84406B  ... 2011-02-10 14:38:00 71 days 06:12:00\n",
              "3    536365    84029G  ... 2011-02-10 14:38:00 71 days 06:12:00\n",
              "4    536365    84029E  ... 2011-02-10 14:38:00 71 days 06:12:00\n",
              "\n",
              "[5 rows x 10 columns]"
            ]
          },
          "metadata": {
            "tags": []
          },
          "execution_count": 19
        }
      ]
    },
    {
      "cell_type": "code",
      "metadata": {
        "colab": {
          "base_uri": "https://localhost:8080/",
          "height": 589
        },
        "id": "3QHyudipeNL-",
        "outputId": "3a6bf806-43f8-4cd6-99ae-2fa5e9b4e550"
      },
      "source": [
        "data['Recency'] = pd.to_numeric(data.Recency.dt.days)\n",
        "data"
      ],
      "execution_count": null,
      "outputs": [
        {
          "output_type": "execute_result",
          "data": {
            "text/html": [
              "<div>\n",
              "<style scoped>\n",
              "    .dataframe tbody tr th:only-of-type {\n",
              "        vertical-align: middle;\n",
              "    }\n",
              "\n",
              "    .dataframe tbody tr th {\n",
              "        vertical-align: top;\n",
              "    }\n",
              "\n",
              "    .dataframe thead th {\n",
              "        text-align: right;\n",
              "    }\n",
              "</style>\n",
              "<table border=\"1\" class=\"dataframe\">\n",
              "  <thead>\n",
              "    <tr style=\"text-align: right;\">\n",
              "      <th></th>\n",
              "      <th>InvoiceNo</th>\n",
              "      <th>StockCode</th>\n",
              "      <th>Description</th>\n",
              "      <th>Quantity</th>\n",
              "      <th>InvoiceDate</th>\n",
              "      <th>UnitPrice</th>\n",
              "      <th>CustomerID</th>\n",
              "      <th>Country</th>\n",
              "      <th>Last_Buying_Date</th>\n",
              "      <th>Recency</th>\n",
              "    </tr>\n",
              "  </thead>\n",
              "  <tbody>\n",
              "    <tr>\n",
              "      <th>0</th>\n",
              "      <td>536365</td>\n",
              "      <td>85123A</td>\n",
              "      <td>WHITE HANGING HEART T-LIGHT HOLDER</td>\n",
              "      <td>6</td>\n",
              "      <td>2010-12-01 08:26:00</td>\n",
              "      <td>2.55</td>\n",
              "      <td>17850</td>\n",
              "      <td>United Kingdom</td>\n",
              "      <td>2011-02-10 14:38:00</td>\n",
              "      <td>71</td>\n",
              "    </tr>\n",
              "    <tr>\n",
              "      <th>1</th>\n",
              "      <td>536365</td>\n",
              "      <td>71053</td>\n",
              "      <td>WHITE METAL LANTERN</td>\n",
              "      <td>6</td>\n",
              "      <td>2010-12-01 08:26:00</td>\n",
              "      <td>3.39</td>\n",
              "      <td>17850</td>\n",
              "      <td>United Kingdom</td>\n",
              "      <td>2011-02-10 14:38:00</td>\n",
              "      <td>71</td>\n",
              "    </tr>\n",
              "    <tr>\n",
              "      <th>2</th>\n",
              "      <td>536365</td>\n",
              "      <td>84406B</td>\n",
              "      <td>CREAM CUPID HEARTS COAT HANGER</td>\n",
              "      <td>8</td>\n",
              "      <td>2010-12-01 08:26:00</td>\n",
              "      <td>2.75</td>\n",
              "      <td>17850</td>\n",
              "      <td>United Kingdom</td>\n",
              "      <td>2011-02-10 14:38:00</td>\n",
              "      <td>71</td>\n",
              "    </tr>\n",
              "    <tr>\n",
              "      <th>3</th>\n",
              "      <td>536365</td>\n",
              "      <td>84029G</td>\n",
              "      <td>KNITTED UNION FLAG HOT WATER BOTTLE</td>\n",
              "      <td>6</td>\n",
              "      <td>2010-12-01 08:26:00</td>\n",
              "      <td>3.39</td>\n",
              "      <td>17850</td>\n",
              "      <td>United Kingdom</td>\n",
              "      <td>2011-02-10 14:38:00</td>\n",
              "      <td>71</td>\n",
              "    </tr>\n",
              "    <tr>\n",
              "      <th>4</th>\n",
              "      <td>536365</td>\n",
              "      <td>84029E</td>\n",
              "      <td>RED WOOLLY HOTTIE WHITE HEART.</td>\n",
              "      <td>6</td>\n",
              "      <td>2010-12-01 08:26:00</td>\n",
              "      <td>3.39</td>\n",
              "      <td>17850</td>\n",
              "      <td>United Kingdom</td>\n",
              "      <td>2011-02-10 14:38:00</td>\n",
              "      <td>71</td>\n",
              "    </tr>\n",
              "    <tr>\n",
              "      <th>...</th>\n",
              "      <td>...</td>\n",
              "      <td>...</td>\n",
              "      <td>...</td>\n",
              "      <td>...</td>\n",
              "      <td>...</td>\n",
              "      <td>...</td>\n",
              "      <td>...</td>\n",
              "      <td>...</td>\n",
              "      <td>...</td>\n",
              "      <td>...</td>\n",
              "    </tr>\n",
              "    <tr>\n",
              "      <th>541904</th>\n",
              "      <td>581587</td>\n",
              "      <td>22613</td>\n",
              "      <td>PACK OF 20 SPACEBOY NAPKINS</td>\n",
              "      <td>12</td>\n",
              "      <td>2011-12-09 12:50:00</td>\n",
              "      <td>0.85</td>\n",
              "      <td>12680</td>\n",
              "      <td>France</td>\n",
              "      <td>2011-12-09 12:50:00</td>\n",
              "      <td>0</td>\n",
              "    </tr>\n",
              "    <tr>\n",
              "      <th>541905</th>\n",
              "      <td>581587</td>\n",
              "      <td>22899</td>\n",
              "      <td>CHILDREN'S APRON DOLLY GIRL</td>\n",
              "      <td>6</td>\n",
              "      <td>2011-12-09 12:50:00</td>\n",
              "      <td>2.10</td>\n",
              "      <td>12680</td>\n",
              "      <td>France</td>\n",
              "      <td>2011-12-09 12:50:00</td>\n",
              "      <td>0</td>\n",
              "    </tr>\n",
              "    <tr>\n",
              "      <th>541906</th>\n",
              "      <td>581587</td>\n",
              "      <td>23254</td>\n",
              "      <td>CHILDRENS CUTLERY DOLLY GIRL</td>\n",
              "      <td>4</td>\n",
              "      <td>2011-12-09 12:50:00</td>\n",
              "      <td>4.15</td>\n",
              "      <td>12680</td>\n",
              "      <td>France</td>\n",
              "      <td>2011-12-09 12:50:00</td>\n",
              "      <td>0</td>\n",
              "    </tr>\n",
              "    <tr>\n",
              "      <th>541907</th>\n",
              "      <td>581587</td>\n",
              "      <td>23255</td>\n",
              "      <td>CHILDRENS CUTLERY CIRCUS PARADE</td>\n",
              "      <td>4</td>\n",
              "      <td>2011-12-09 12:50:00</td>\n",
              "      <td>4.15</td>\n",
              "      <td>12680</td>\n",
              "      <td>France</td>\n",
              "      <td>2011-12-09 12:50:00</td>\n",
              "      <td>0</td>\n",
              "    </tr>\n",
              "    <tr>\n",
              "      <th>541908</th>\n",
              "      <td>581587</td>\n",
              "      <td>22138</td>\n",
              "      <td>BAKING SET 9 PIECE RETROSPOT</td>\n",
              "      <td>3</td>\n",
              "      <td>2011-12-09 12:50:00</td>\n",
              "      <td>4.95</td>\n",
              "      <td>12680</td>\n",
              "      <td>France</td>\n",
              "      <td>2011-12-09 12:50:00</td>\n",
              "      <td>0</td>\n",
              "    </tr>\n",
              "  </tbody>\n",
              "</table>\n",
              "<p>406829 rows × 10 columns</p>\n",
              "</div>"
            ],
            "text/plain": [
              "       InvoiceNo StockCode  ...    Last_Buying_Date  Recency\n",
              "0         536365    85123A  ... 2011-02-10 14:38:00       71\n",
              "1         536365     71053  ... 2011-02-10 14:38:00       71\n",
              "2         536365    84406B  ... 2011-02-10 14:38:00       71\n",
              "3         536365    84029G  ... 2011-02-10 14:38:00       71\n",
              "4         536365    84029E  ... 2011-02-10 14:38:00       71\n",
              "...          ...       ...  ...                 ...      ...\n",
              "541904    581587     22613  ... 2011-12-09 12:50:00        0\n",
              "541905    581587     22899  ... 2011-12-09 12:50:00        0\n",
              "541906    581587     23254  ... 2011-12-09 12:50:00        0\n",
              "541907    581587     23255  ... 2011-12-09 12:50:00        0\n",
              "541908    581587     22138  ... 2011-12-09 12:50:00        0\n",
              "\n",
              "[406829 rows x 10 columns]"
            ]
          },
          "metadata": {
            "tags": []
          },
          "execution_count": 20
        }
      ]
    },
    {
      "cell_type": "code",
      "metadata": {
        "colab": {
          "base_uri": "https://localhost:8080/"
        },
        "id": "T5bc89ppfETv",
        "outputId": "4cd80c15-6346-4ef8-e391-38adec625767"
      },
      "source": [
        "data.dtypes"
      ],
      "execution_count": null,
      "outputs": [
        {
          "output_type": "execute_result",
          "data": {
            "text/plain": [
              "InvoiceNo                   object\n",
              "StockCode                   object\n",
              "Description                 object\n",
              "Quantity                     int64\n",
              "InvoiceDate         datetime64[ns]\n",
              "UnitPrice                  float64\n",
              "CustomerID                  object\n",
              "Country                     object\n",
              "Last_Buying_Date    datetime64[ns]\n",
              "Recency                      int64\n",
              "dtype: object"
            ]
          },
          "metadata": {
            "tags": []
          },
          "execution_count": 21
        }
      ]
    },
    {
      "cell_type": "code",
      "metadata": {
        "colab": {
          "base_uri": "https://localhost:8080/",
          "height": 589
        },
        "id": "IlRs6dX5fWKQ",
        "outputId": "ca863bc2-839c-46e8-b7ea-3318e0d46a11"
      },
      "source": [
        "data_customer_recency = data[data['Recency']>0]\n",
        "data_customer_recency"
      ],
      "execution_count": null,
      "outputs": [
        {
          "output_type": "execute_result",
          "data": {
            "text/html": [
              "<div>\n",
              "<style scoped>\n",
              "    .dataframe tbody tr th:only-of-type {\n",
              "        vertical-align: middle;\n",
              "    }\n",
              "\n",
              "    .dataframe tbody tr th {\n",
              "        vertical-align: top;\n",
              "    }\n",
              "\n",
              "    .dataframe thead th {\n",
              "        text-align: right;\n",
              "    }\n",
              "</style>\n",
              "<table border=\"1\" class=\"dataframe\">\n",
              "  <thead>\n",
              "    <tr style=\"text-align: right;\">\n",
              "      <th></th>\n",
              "      <th>InvoiceNo</th>\n",
              "      <th>StockCode</th>\n",
              "      <th>Description</th>\n",
              "      <th>Quantity</th>\n",
              "      <th>InvoiceDate</th>\n",
              "      <th>UnitPrice</th>\n",
              "      <th>CustomerID</th>\n",
              "      <th>Country</th>\n",
              "      <th>Last_Buying_Date</th>\n",
              "      <th>Recency</th>\n",
              "      <th>Total_amount</th>\n",
              "    </tr>\n",
              "  </thead>\n",
              "  <tbody>\n",
              "    <tr>\n",
              "      <th>0</th>\n",
              "      <td>536365</td>\n",
              "      <td>85123A</td>\n",
              "      <td>WHITE HANGING HEART T-LIGHT HOLDER</td>\n",
              "      <td>6</td>\n",
              "      <td>2010-12-01 08:26:00</td>\n",
              "      <td>2.55</td>\n",
              "      <td>17850</td>\n",
              "      <td>United Kingdom</td>\n",
              "      <td>2011-02-10 14:38:00</td>\n",
              "      <td>71</td>\n",
              "      <td>15.30</td>\n",
              "    </tr>\n",
              "    <tr>\n",
              "      <th>1</th>\n",
              "      <td>536365</td>\n",
              "      <td>71053</td>\n",
              "      <td>WHITE METAL LANTERN</td>\n",
              "      <td>6</td>\n",
              "      <td>2010-12-01 08:26:00</td>\n",
              "      <td>3.39</td>\n",
              "      <td>17850</td>\n",
              "      <td>United Kingdom</td>\n",
              "      <td>2011-02-10 14:38:00</td>\n",
              "      <td>71</td>\n",
              "      <td>20.34</td>\n",
              "    </tr>\n",
              "    <tr>\n",
              "      <th>2</th>\n",
              "      <td>536365</td>\n",
              "      <td>84406B</td>\n",
              "      <td>CREAM CUPID HEARTS COAT HANGER</td>\n",
              "      <td>8</td>\n",
              "      <td>2010-12-01 08:26:00</td>\n",
              "      <td>2.75</td>\n",
              "      <td>17850</td>\n",
              "      <td>United Kingdom</td>\n",
              "      <td>2011-02-10 14:38:00</td>\n",
              "      <td>71</td>\n",
              "      <td>22.00</td>\n",
              "    </tr>\n",
              "    <tr>\n",
              "      <th>3</th>\n",
              "      <td>536365</td>\n",
              "      <td>84029G</td>\n",
              "      <td>KNITTED UNION FLAG HOT WATER BOTTLE</td>\n",
              "      <td>6</td>\n",
              "      <td>2010-12-01 08:26:00</td>\n",
              "      <td>3.39</td>\n",
              "      <td>17850</td>\n",
              "      <td>United Kingdom</td>\n",
              "      <td>2011-02-10 14:38:00</td>\n",
              "      <td>71</td>\n",
              "      <td>20.34</td>\n",
              "    </tr>\n",
              "    <tr>\n",
              "      <th>4</th>\n",
              "      <td>536365</td>\n",
              "      <td>84029E</td>\n",
              "      <td>RED WOOLLY HOTTIE WHITE HEART.</td>\n",
              "      <td>6</td>\n",
              "      <td>2010-12-01 08:26:00</td>\n",
              "      <td>3.39</td>\n",
              "      <td>17850</td>\n",
              "      <td>United Kingdom</td>\n",
              "      <td>2011-02-10 14:38:00</td>\n",
              "      <td>71</td>\n",
              "      <td>20.34</td>\n",
              "    </tr>\n",
              "    <tr>\n",
              "      <th>...</th>\n",
              "      <td>...</td>\n",
              "      <td>...</td>\n",
              "      <td>...</td>\n",
              "      <td>...</td>\n",
              "      <td>...</td>\n",
              "      <td>...</td>\n",
              "      <td>...</td>\n",
              "      <td>...</td>\n",
              "      <td>...</td>\n",
              "      <td>...</td>\n",
              "      <td>...</td>\n",
              "    </tr>\n",
              "    <tr>\n",
              "      <th>534292</th>\n",
              "      <td>581143</td>\n",
              "      <td>23250</td>\n",
              "      <td>VINTAGE RED TRIM ENAMEL BOWL</td>\n",
              "      <td>31</td>\n",
              "      <td>2011-12-07 13:46:00</td>\n",
              "      <td>1.25</td>\n",
              "      <td>17490</td>\n",
              "      <td>United Kingdom</td>\n",
              "      <td>2011-12-09 09:08:00</td>\n",
              "      <td>1</td>\n",
              "      <td>38.75</td>\n",
              "    </tr>\n",
              "    <tr>\n",
              "      <th>534308</th>\n",
              "      <td>C581145</td>\n",
              "      <td>M</td>\n",
              "      <td>Manual</td>\n",
              "      <td>-1</td>\n",
              "      <td>2011-12-07 13:48:00</td>\n",
              "      <td>9.95</td>\n",
              "      <td>17490</td>\n",
              "      <td>United Kingdom</td>\n",
              "      <td>2011-12-09 09:08:00</td>\n",
              "      <td>1</td>\n",
              "      <td>-9.95</td>\n",
              "    </tr>\n",
              "    <tr>\n",
              "      <th>534309</th>\n",
              "      <td>C581145</td>\n",
              "      <td>35970</td>\n",
              "      <td>ZINC FOLKART SLEIGH BELLS</td>\n",
              "      <td>-12</td>\n",
              "      <td>2011-12-07 13:48:00</td>\n",
              "      <td>1.69</td>\n",
              "      <td>17490</td>\n",
              "      <td>United Kingdom</td>\n",
              "      <td>2011-12-09 09:08:00</td>\n",
              "      <td>1</td>\n",
              "      <td>-20.28</td>\n",
              "    </tr>\n",
              "    <tr>\n",
              "      <th>534310</th>\n",
              "      <td>C581145</td>\n",
              "      <td>23249</td>\n",
              "      <td>VINTAGE RED ENAMEL TRIM PLATE</td>\n",
              "      <td>-9</td>\n",
              "      <td>2011-12-07 13:48:00</td>\n",
              "      <td>1.49</td>\n",
              "      <td>17490</td>\n",
              "      <td>United Kingdom</td>\n",
              "      <td>2011-12-09 09:08:00</td>\n",
              "      <td>1</td>\n",
              "      <td>-13.41</td>\n",
              "    </tr>\n",
              "    <tr>\n",
              "      <th>534311</th>\n",
              "      <td>C581145</td>\n",
              "      <td>23250</td>\n",
              "      <td>VINTAGE RED TRIM ENAMEL BOWL</td>\n",
              "      <td>-38</td>\n",
              "      <td>2011-12-07 13:48:00</td>\n",
              "      <td>1.04</td>\n",
              "      <td>17490</td>\n",
              "      <td>United Kingdom</td>\n",
              "      <td>2011-12-09 09:08:00</td>\n",
              "      <td>1</td>\n",
              "      <td>-39.52</td>\n",
              "    </tr>\n",
              "  </tbody>\n",
              "</table>\n",
              "<p>315358 rows × 11 columns</p>\n",
              "</div>"
            ],
            "text/plain": [
              "       InvoiceNo StockCode  ... Recency  Total_amount\n",
              "0         536365    85123A  ...      71         15.30\n",
              "1         536365     71053  ...      71         20.34\n",
              "2         536365    84406B  ...      71         22.00\n",
              "3         536365    84029G  ...      71         20.34\n",
              "4         536365    84029E  ...      71         20.34\n",
              "...          ...       ...  ...     ...           ...\n",
              "534292    581143     23250  ...       1         38.75\n",
              "534308   C581145         M  ...       1         -9.95\n",
              "534309   C581145     35970  ...       1        -20.28\n",
              "534310   C581145     23249  ...       1        -13.41\n",
              "534311   C581145     23250  ...       1        -39.52\n",
              "\n",
              "[315358 rows x 11 columns]"
            ]
          },
          "metadata": {
            "tags": []
          },
          "execution_count": 60
        }
      ]
    },
    {
      "cell_type": "code",
      "metadata": {
        "colab": {
          "base_uri": "https://localhost:8080/",
          "height": 419
        },
        "id": "fh27IkC1fzVr",
        "outputId": "0665c823-70d4-457c-b5ec-5cc2894dee29"
      },
      "source": [
        "data_customer_recency = data_customer_recency[['CustomerID','Recency']]\n",
        "data_customer_recency"
      ],
      "execution_count": null,
      "outputs": [
        {
          "output_type": "execute_result",
          "data": {
            "text/html": [
              "<div>\n",
              "<style scoped>\n",
              "    .dataframe tbody tr th:only-of-type {\n",
              "        vertical-align: middle;\n",
              "    }\n",
              "\n",
              "    .dataframe tbody tr th {\n",
              "        vertical-align: top;\n",
              "    }\n",
              "\n",
              "    .dataframe thead th {\n",
              "        text-align: right;\n",
              "    }\n",
              "</style>\n",
              "<table border=\"1\" class=\"dataframe\">\n",
              "  <thead>\n",
              "    <tr style=\"text-align: right;\">\n",
              "      <th></th>\n",
              "      <th>CustomerID</th>\n",
              "      <th>Recency</th>\n",
              "    </tr>\n",
              "  </thead>\n",
              "  <tbody>\n",
              "    <tr>\n",
              "      <th>0</th>\n",
              "      <td>17850</td>\n",
              "      <td>71</td>\n",
              "    </tr>\n",
              "    <tr>\n",
              "      <th>1</th>\n",
              "      <td>17850</td>\n",
              "      <td>71</td>\n",
              "    </tr>\n",
              "    <tr>\n",
              "      <th>2</th>\n",
              "      <td>17850</td>\n",
              "      <td>71</td>\n",
              "    </tr>\n",
              "    <tr>\n",
              "      <th>3</th>\n",
              "      <td>17850</td>\n",
              "      <td>71</td>\n",
              "    </tr>\n",
              "    <tr>\n",
              "      <th>4</th>\n",
              "      <td>17850</td>\n",
              "      <td>71</td>\n",
              "    </tr>\n",
              "    <tr>\n",
              "      <th>...</th>\n",
              "      <td>...</td>\n",
              "      <td>...</td>\n",
              "    </tr>\n",
              "    <tr>\n",
              "      <th>534292</th>\n",
              "      <td>17490</td>\n",
              "      <td>1</td>\n",
              "    </tr>\n",
              "    <tr>\n",
              "      <th>534308</th>\n",
              "      <td>17490</td>\n",
              "      <td>1</td>\n",
              "    </tr>\n",
              "    <tr>\n",
              "      <th>534309</th>\n",
              "      <td>17490</td>\n",
              "      <td>1</td>\n",
              "    </tr>\n",
              "    <tr>\n",
              "      <th>534310</th>\n",
              "      <td>17490</td>\n",
              "      <td>1</td>\n",
              "    </tr>\n",
              "    <tr>\n",
              "      <th>534311</th>\n",
              "      <td>17490</td>\n",
              "      <td>1</td>\n",
              "    </tr>\n",
              "  </tbody>\n",
              "</table>\n",
              "<p>315358 rows × 2 columns</p>\n",
              "</div>"
            ],
            "text/plain": [
              "       CustomerID  Recency\n",
              "0           17850       71\n",
              "1           17850       71\n",
              "2           17850       71\n",
              "3           17850       71\n",
              "4           17850       71\n",
              "...           ...      ...\n",
              "534292      17490        1\n",
              "534308      17490        1\n",
              "534309      17490        1\n",
              "534310      17490        1\n",
              "534311      17490        1\n",
              "\n",
              "[315358 rows x 2 columns]"
            ]
          },
          "metadata": {
            "tags": []
          },
          "execution_count": 61
        }
      ]
    },
    {
      "cell_type": "code",
      "metadata": {
        "colab": {
          "base_uri": "https://localhost:8080/",
          "height": 419
        },
        "id": "iOttPusqbjPN",
        "outputId": "1c39505d-5512-4a55-bf66-2489c640dc7a"
      },
      "source": [
        "\n",
        "data_customer_recency = data_customer_recency.groupby(by='CustomerID').Recency.min().reset_index()\n",
        "data_customer_recency.columns = ['CustomerID','Recency']\n",
        "data_customer_recency"
      ],
      "execution_count": null,
      "outputs": [
        {
          "output_type": "execute_result",
          "data": {
            "text/html": [
              "<div>\n",
              "<style scoped>\n",
              "    .dataframe tbody tr th:only-of-type {\n",
              "        vertical-align: middle;\n",
              "    }\n",
              "\n",
              "    .dataframe tbody tr th {\n",
              "        vertical-align: top;\n",
              "    }\n",
              "\n",
              "    .dataframe thead th {\n",
              "        text-align: right;\n",
              "    }\n",
              "</style>\n",
              "<table border=\"1\" class=\"dataframe\">\n",
              "  <thead>\n",
              "    <tr style=\"text-align: right;\">\n",
              "      <th></th>\n",
              "      <th>CustomerID</th>\n",
              "      <th>Recency</th>\n",
              "    </tr>\n",
              "  </thead>\n",
              "  <tbody>\n",
              "    <tr>\n",
              "      <th>0</th>\n",
              "      <td>12347</td>\n",
              "      <td>37</td>\n",
              "    </tr>\n",
              "    <tr>\n",
              "      <th>1</th>\n",
              "      <td>12348</td>\n",
              "      <td>173</td>\n",
              "    </tr>\n",
              "    <tr>\n",
              "      <th>2</th>\n",
              "      <td>12352</td>\n",
              "      <td>35</td>\n",
              "    </tr>\n",
              "    <tr>\n",
              "      <th>3</th>\n",
              "      <td>12356</td>\n",
              "      <td>222</td>\n",
              "    </tr>\n",
              "    <tr>\n",
              "      <th>4</th>\n",
              "      <td>12358</td>\n",
              "      <td>149</td>\n",
              "    </tr>\n",
              "    <tr>\n",
              "      <th>...</th>\n",
              "      <td>...</td>\n",
              "      <td>...</td>\n",
              "    </tr>\n",
              "    <tr>\n",
              "      <th>2975</th>\n",
              "      <td>18276</td>\n",
              "      <td>22</td>\n",
              "    </tr>\n",
              "    <tr>\n",
              "      <th>2976</th>\n",
              "      <td>18277</td>\n",
              "      <td>260</td>\n",
              "    </tr>\n",
              "    <tr>\n",
              "      <th>2977</th>\n",
              "      <td>18282</td>\n",
              "      <td>114</td>\n",
              "    </tr>\n",
              "    <tr>\n",
              "      <th>2978</th>\n",
              "      <td>18283</td>\n",
              "      <td>5</td>\n",
              "    </tr>\n",
              "    <tr>\n",
              "      <th>2979</th>\n",
              "      <td>18287</td>\n",
              "      <td>15</td>\n",
              "    </tr>\n",
              "  </tbody>\n",
              "</table>\n",
              "<p>2980 rows × 2 columns</p>\n",
              "</div>"
            ],
            "text/plain": [
              "     CustomerID  Recency\n",
              "0         12347       37\n",
              "1         12348      173\n",
              "2         12352       35\n",
              "3         12356      222\n",
              "4         12358      149\n",
              "...         ...      ...\n",
              "2975      18276       22\n",
              "2976      18277      260\n",
              "2977      18282      114\n",
              "2978      18283        5\n",
              "2979      18287       15\n",
              "\n",
              "[2980 rows x 2 columns]"
            ]
          },
          "metadata": {
            "tags": []
          },
          "execution_count": 62
        }
      ]
    },
    {
      "cell_type": "code",
      "metadata": {
        "id": "WWCVbv5oPZhZ"
      },
      "source": [
        "#include recency = 0  in the dataframe also\n",
        "\n",
        "data_recency_zero = data.groupby('CustomerID').Recency.max().reset_index() #so for custid with only zero can be filtered by this approach\n",
        "data_recency_zero.columns = ['CustomerID','Recency']\n",
        "data_recency_zero = data_recency_zero[data_recency_zero['Recency']== 0]\n",
        "data_customer_recency = data_customer_recency.append(data_recency_zero)"
      ],
      "execution_count": null,
      "outputs": []
    },
    {
      "cell_type": "code",
      "metadata": {
        "colab": {
          "base_uri": "https://localhost:8080/"
        },
        "id": "CFA1IvbogE6d",
        "outputId": "0d2433f0-8cec-4612-fddd-69a13d60bcaa"
      },
      "source": [
        "data_customer_recency.Recency.describe()"
      ],
      "execution_count": null,
      "outputs": [
        {
          "output_type": "execute_result",
          "data": {
            "text/plain": [
              "count    4372.000000\n",
              "mean       44.012351\n",
              "std        67.717359\n",
              "min         0.000000\n",
              "25%         0.000000\n",
              "50%        13.000000\n",
              "75%        59.000000\n",
              "max       365.000000\n",
              "Name: Recency, dtype: float64"
            ]
          },
          "metadata": {
            "tags": []
          },
          "execution_count": 64
        }
      ]
    },
    {
      "cell_type": "code",
      "metadata": {
        "colab": {
          "base_uri": "https://localhost:8080/",
          "height": 352
        },
        "id": "kGSzkq3fhMat",
        "outputId": "8247a77c-2151-4c86-9ffe-479201fea56b"
      },
      "source": [
        "plt.hist(data_customer_recency.Recency)"
      ],
      "execution_count": null,
      "outputs": [
        {
          "output_type": "execute_result",
          "data": {
            "text/plain": [
              "(array([2884.,  587.,  314.,  172.,  165.,   83.,   65.,   37.,   35.,\n",
              "          30.]),\n",
              " array([  0. ,  36.5,  73. , 109.5, 146. , 182.5, 219. , 255.5, 292. ,\n",
              "        328.5, 365. ]),\n",
              " <a list of 10 Patch objects>)"
            ]
          },
          "metadata": {
            "tags": []
          },
          "execution_count": 65
        },
        {
          "output_type": "display_data",
          "data": {
            "image/png": "[encoded data removed]",
            "text/plain": [
              "<Figure size 432x288 with 1 Axes>"
            ]
          },
          "metadata": {
            "tags": [],
            "needs_background": "light"
          }
        }
      ]
    },
    {
      "cell_type": "code",
      "metadata": {
        "colab": {
          "base_uri": "https://localhost:8080/",
          "height": 295
        },
        "id": "IWytCdQ7q7p6",
        "outputId": "937ef482-6eda-43f2-9e81-454fe022142d"
      },
      "source": [
        "from sklearn.cluster import KMeans\n",
        "\n",
        "\n",
        "c = {}\n",
        "for k in range(1,10):\n",
        "  model = KMeans(n_clusters=k,max_iter=500,algorithm=\"full\")\n",
        "  model.fit(data_customer_recency[['Recency']])\n",
        "  c[k] = model.inertia_\n",
        "\n",
        "plt.plot(list(c.keys()),list(c.values()))\n",
        "plt.xlabel(\"No of cluster\")\n",
        "plt.ylabel(\"Inertia Coeff\")\n",
        "plt.title(\"Inertia graph for each cluster no -- Recency\")\n",
        "plt.show()\n",
        "\n"
      ],
      "execution_count": null,
      "outputs": [
        {
          "output_type": "display_data",
          "data": {
            "image/png": "[encoded data removed]",
            "text/plain": [
              "<Figure size 432x288 with 1 Axes>"
            ]
          },
          "metadata": {
            "tags": [],
            "needs_background": "light"
          }
        }
      ]
    },
    {
      "cell_type": "code",
      "metadata": {
        "colab": {
          "base_uri": "https://localhost:8080/",
          "height": 419
        },
        "id": "TM_Yjg3-xfoN",
        "outputId": "3804a7cf-e454-4862-9fad-02f4d508b3cf"
      },
      "source": [
        "#add the cluster labels for recency cluster. k = 4 as determined by elbow method\n",
        "\n",
        "model = KMeans(n_clusters=4,max_iter=500,algorithm=\"full\")\n",
        "model.fit(data_customer_recency[['Recency']])\n",
        "data_customer_recency['cluster_no'] = model.labels_\n",
        "data_customer_recency\n"
      ],
      "execution_count": null,
      "outputs": [
        {
          "output_type": "execute_result",
          "data": {
            "text/html": [
              "<div>\n",
              "<style scoped>\n",
              "    .dataframe tbody tr th:only-of-type {\n",
              "        vertical-align: middle;\n",
              "    }\n",
              "\n",
              "    .dataframe tbody tr th {\n",
              "        vertical-align: top;\n",
              "    }\n",
              "\n",
              "    .dataframe thead th {\n",
              "        text-align: right;\n",
              "    }\n",
              "</style>\n",
              "<table border=\"1\" class=\"dataframe\">\n",
              "  <thead>\n",
              "    <tr style=\"text-align: right;\">\n",
              "      <th></th>\n",
              "      <th>CustomerID</th>\n",
              "      <th>Recency</th>\n",
              "      <th>cluster_no</th>\n",
              "    </tr>\n",
              "  </thead>\n",
              "  <tbody>\n",
              "    <tr>\n",
              "      <th>0</th>\n",
              "      <td>12347</td>\n",
              "      <td>37</td>\n",
              "      <td>0</td>\n",
              "    </tr>\n",
              "    <tr>\n",
              "      <th>1</th>\n",
              "      <td>12348</td>\n",
              "      <td>173</td>\n",
              "      <td>1</td>\n",
              "    </tr>\n",
              "    <tr>\n",
              "      <th>2</th>\n",
              "      <td>12352</td>\n",
              "      <td>35</td>\n",
              "      <td>0</td>\n",
              "    </tr>\n",
              "    <tr>\n",
              "      <th>3</th>\n",
              "      <td>12356</td>\n",
              "      <td>222</td>\n",
              "      <td>3</td>\n",
              "    </tr>\n",
              "    <tr>\n",
              "      <th>4</th>\n",
              "      <td>12358</td>\n",
              "      <td>149</td>\n",
              "      <td>1</td>\n",
              "    </tr>\n",
              "    <tr>\n",
              "      <th>...</th>\n",
              "      <td>...</td>\n",
              "      <td>...</td>\n",
              "      <td>...</td>\n",
              "    </tr>\n",
              "    <tr>\n",
              "      <th>4355</th>\n",
              "      <td>18262</td>\n",
              "      <td>0</td>\n",
              "      <td>0</td>\n",
              "    </tr>\n",
              "    <tr>\n",
              "      <th>4358</th>\n",
              "      <td>18268</td>\n",
              "      <td>0</td>\n",
              "      <td>0</td>\n",
              "    </tr>\n",
              "    <tr>\n",
              "      <th>4366</th>\n",
              "      <td>18278</td>\n",
              "      <td>0</td>\n",
              "      <td>0</td>\n",
              "    </tr>\n",
              "    <tr>\n",
              "      <th>4367</th>\n",
              "      <td>18280</td>\n",
              "      <td>0</td>\n",
              "      <td>0</td>\n",
              "    </tr>\n",
              "    <tr>\n",
              "      <th>4368</th>\n",
              "      <td>18281</td>\n",
              "      <td>0</td>\n",
              "      <td>0</td>\n",
              "    </tr>\n",
              "  </tbody>\n",
              "</table>\n",
              "<p>4372 rows × 3 columns</p>\n",
              "</div>"
            ],
            "text/plain": [
              "     CustomerID  Recency  cluster_no\n",
              "0         12347       37           0\n",
              "1         12348      173           1\n",
              "2         12352       35           0\n",
              "3         12356      222           3\n",
              "4         12358      149           1\n",
              "...         ...      ...         ...\n",
              "4355      18262        0           0\n",
              "4358      18268        0           0\n",
              "4366      18278        0           0\n",
              "4367      18280        0           0\n",
              "4368      18281        0           0\n",
              "\n",
              "[4372 rows x 3 columns]"
            ]
          },
          "metadata": {
            "tags": []
          },
          "execution_count": 67
        }
      ]
    },
    {
      "cell_type": "code",
      "metadata": {
        "colab": {
          "base_uri": "https://localhost:8080/"
        },
        "id": "tmDmUBsr30qa",
        "outputId": "61847077-5808-4325-8a5f-4e68e82b8af0"
      },
      "source": [
        "data_customer_recency.groupby('cluster_no').Recency.mean()"
      ],
      "execution_count": null,
      "outputs": [
        {
          "output_type": "execute_result",
          "data": {
            "text/plain": [
              "cluster_no\n",
              "0      7.692520\n",
              "1    157.376559\n",
              "2     66.883721\n",
              "3    279.053892\n",
              "Name: Recency, dtype: float64"
            ]
          },
          "metadata": {
            "tags": []
          },
          "execution_count": 68
        }
      ]
    },
    {
      "cell_type": "code",
      "metadata": {
        "colab": {
          "base_uri": "https://localhost:8080/"
        },
        "id": "H1gFb-Aj4Z34",
        "outputId": "5edb2d74-4b45-4a61-9b4d-81f1f802f1c8"
      },
      "source": [
        "model.cluster_centers_"
      ],
      "execution_count": null,
      "outputs": [
        {
          "output_type": "execute_result",
          "data": {
            "text/plain": [
              "array([[  7.69251982],\n",
              "       [157.3765586 ],\n",
              "       [ 66.88372093],\n",
              "       [279.05389222]])"
            ]
          },
          "metadata": {
            "tags": []
          },
          "execution_count": 69
        }
      ]
    },
    {
      "cell_type": "code",
      "metadata": {
        "id": "TiyEvE8Q4fOe",
        "colab": {
          "base_uri": "https://localhost:8080/"
        },
        "outputId": "eb0f97a7-5ede-4cfd-d722-a3ee25a3e60a"
      },
      "source": [
        "# Low recency are customers of very high value i.e <=18.95, greater than 18.95 and less than 79.81 is high value customers\n",
        "#between 116-255 is medium value, and greater than 255 is low value\n",
        "data_customer_recency['cluster_labels'] = 'High'\n",
        "data_customer_recency.loc[data_customer_recency['cluster_no'] == 0,'cluster_labels'] = 'Very High'\n",
        "data_customer_recency.loc[data_customer_recency['cluster_no'] == 1,'cluster_labels'] = 'Medium'\n",
        "data_customer_recency.loc[data_customer_recency['cluster_no'] == 2,'cluster_labels'] = 'High'\n",
        "data_customer_recency.loc[data_customer_recency['cluster_no'] == 3,'cluster_labels'] = 'Low'\n",
        "data_customer_recency.cluster_labels.value_counts()\n",
        "\n",
        "\n"
      ],
      "execution_count": null,
      "outputs": [
        {
          "output_type": "execute_result",
          "data": {
            "text/plain": [
              "Very High    2901\n",
              "High          903\n",
              "Medium        401\n",
              "Low           167\n",
              "Name: cluster_labels, dtype: int64"
            ]
          },
          "metadata": {
            "tags": []
          },
          "execution_count": 70
        }
      ]
    },
    {
      "cell_type": "code",
      "metadata": {
        "colab": {
          "base_uri": "https://localhost:8080/",
          "height": 419
        },
        "id": "B4xxbxmeAFwf",
        "outputId": "5dd3e61e-25f8-4c41-ffb1-0f242255a437"
      },
      "source": [
        "#calculate frequency\n",
        "\n",
        "data_customer_frequency = data[['CustomerID','InvoiceNo']]\n",
        "data_customer_frequency = data_customer_frequency.groupby('CustomerID').InvoiceNo.nunique().reset_index()\n",
        "data_customer_frequency.columns = ['CustomerID','Frequency']\n",
        "data_customer_frequency"
      ],
      "execution_count": null,
      "outputs": [
        {
          "output_type": "execute_result",
          "data": {
            "text/html": [
              "<div>\n",
              "<style scoped>\n",
              "    .dataframe tbody tr th:only-of-type {\n",
              "        vertical-align: middle;\n",
              "    }\n",
              "\n",
              "    .dataframe tbody tr th {\n",
              "        vertical-align: top;\n",
              "    }\n",
              "\n",
              "    .dataframe thead th {\n",
              "        text-align: right;\n",
              "    }\n",
              "</style>\n",
              "<table border=\"1\" class=\"dataframe\">\n",
              "  <thead>\n",
              "    <tr style=\"text-align: right;\">\n",
              "      <th></th>\n",
              "      <th>CustomerID</th>\n",
              "      <th>Frequency</th>\n",
              "    </tr>\n",
              "  </thead>\n",
              "  <tbody>\n",
              "    <tr>\n",
              "      <th>0</th>\n",
              "      <td>12346</td>\n",
              "      <td>2</td>\n",
              "    </tr>\n",
              "    <tr>\n",
              "      <th>1</th>\n",
              "      <td>12347</td>\n",
              "      <td>7</td>\n",
              "    </tr>\n",
              "    <tr>\n",
              "      <th>2</th>\n",
              "      <td>12348</td>\n",
              "      <td>4</td>\n",
              "    </tr>\n",
              "    <tr>\n",
              "      <th>3</th>\n",
              "      <td>12349</td>\n",
              "      <td>1</td>\n",
              "    </tr>\n",
              "    <tr>\n",
              "      <th>4</th>\n",
              "      <td>12350</td>\n",
              "      <td>1</td>\n",
              "    </tr>\n",
              "    <tr>\n",
              "      <th>...</th>\n",
              "      <td>...</td>\n",
              "      <td>...</td>\n",
              "    </tr>\n",
              "    <tr>\n",
              "      <th>4367</th>\n",
              "      <td>18280</td>\n",
              "      <td>1</td>\n",
              "    </tr>\n",
              "    <tr>\n",
              "      <th>4368</th>\n",
              "      <td>18281</td>\n",
              "      <td>1</td>\n",
              "    </tr>\n",
              "    <tr>\n",
              "      <th>4369</th>\n",
              "      <td>18282</td>\n",
              "      <td>3</td>\n",
              "    </tr>\n",
              "    <tr>\n",
              "      <th>4370</th>\n",
              "      <td>18283</td>\n",
              "      <td>16</td>\n",
              "    </tr>\n",
              "    <tr>\n",
              "      <th>4371</th>\n",
              "      <td>18287</td>\n",
              "      <td>3</td>\n",
              "    </tr>\n",
              "  </tbody>\n",
              "</table>\n",
              "<p>4372 rows × 2 columns</p>\n",
              "</div>"
            ],
            "text/plain": [
              "     CustomerID  Frequency\n",
              "0         12346          2\n",
              "1         12347          7\n",
              "2         12348          4\n",
              "3         12349          1\n",
              "4         12350          1\n",
              "...         ...        ...\n",
              "4367      18280          1\n",
              "4368      18281          1\n",
              "4369      18282          3\n",
              "4370      18283         16\n",
              "4371      18287          3\n",
              "\n",
              "[4372 rows x 2 columns]"
            ]
          },
          "metadata": {
            "tags": []
          },
          "execution_count": 32
        }
      ]
    },
    {
      "cell_type": "code",
      "metadata": {
        "colab": {
          "base_uri": "https://localhost:8080/",
          "height": 354
        },
        "id": "ZzOFq5m8DT3x",
        "outputId": "e67ed055-6827-4989-e5aa-b8222926d31d"
      },
      "source": [
        "plt.hist(data_customer_frequency.Frequency,bins=[10,20,30,40,50,60,70,80,90,100,110,120,130,140,150,160,170,180,190,200,210,220])"
      ],
      "execution_count": null,
      "outputs": [
        {
          "output_type": "execute_result",
          "data": {
            "text/plain": [
              "(array([381.,  89.,  28.,  14.,   9.,   4.,   3.,   3.,   0.,   0.,   2.,\n",
              "          1.,   0.,   0.,   0.,   1.,   0.,   0.,   0.,   0.,   0.]),\n",
              " array([ 10,  20,  30,  40,  50,  60,  70,  80,  90, 100, 110, 120, 130,\n",
              "        140, 150, 160, 170, 180, 190, 200, 210, 220]),\n",
              " <a list of 21 Patch objects>)"
            ]
          },
          "metadata": {
            "tags": []
          },
          "execution_count": 33
        },
        {
          "output_type": "display_data",
          "data": {
            "image/png": "[encoded data removed]",
            "text/plain": [
              "<Figure size 432x288 with 1 Axes>"
            ]
          },
          "metadata": {
            "tags": [],
            "needs_background": "light"
          }
        }
      ]
    },
    {
      "cell_type": "code",
      "metadata": {
        "colab": {
          "base_uri": "https://localhost:8080/",
          "height": 295
        },
        "id": "VdiAff2wCACz",
        "outputId": "08ca874e-cef3-4f78-f5cc-b7500c51ccd1"
      },
      "source": [
        "#find no of clusters for frequency\n",
        "\n",
        "c = {}\n",
        "for k in range(1,10):\n",
        "  model = KMeans(n_clusters=k,max_iter=500,algorithm=\"full\")\n",
        "  model.fit(data_customer_frequency[['Frequency']])\n",
        "  c[k] = model.inertia_\n",
        "\n",
        "plt.plot(list(c.keys()),list(c.values()))\n",
        "plt.xlabel(\"No of cluster\")\n",
        "plt.ylabel(\"Inertia Coeff\")\n",
        "plt.title(\"Inertia graph for each cluster no --Frequency\")\n",
        "plt.show()\n"
      ],
      "execution_count": null,
      "outputs": [
        {
          "output_type": "display_data",
          "data": {
            "image/png": "[encoded data removed]",
            "text/plain": [
              "<Figure size 432x288 with 1 Axes>"
            ]
          },
          "metadata": {
            "tags": [],
            "needs_background": "light"
          }
        }
      ]
    },
    {
      "cell_type": "code",
      "metadata": {
        "colab": {
          "base_uri": "https://localhost:8080/"
        },
        "id": "28KjLu7JCpwM",
        "outputId": "b94d50d5-a509-44a8-a74a-cfa0f32f7cd3"
      },
      "source": [
        "#observe cluster with 4 or 5 means\n",
        "\n",
        "model = KMeans(n_clusters=4,max_iter=500,algorithm=\"full\")\n",
        "model.fit(data_customer_frequency[['Frequency']])\n",
        "model.cluster_centers_"
      ],
      "execution_count": null,
      "outputs": [
        {
          "output_type": "execute_result",
          "data": {
            "text/plain": [
              "array([[  2.94550196],\n",
              "       [ 48.65306122],\n",
              "       [167.5       ],\n",
              "       [ 15.57053942]])"
            ]
          },
          "metadata": {
            "tags": []
          },
          "execution_count": 35
        }
      ]
    },
    {
      "cell_type": "code",
      "metadata": {
        "colab": {
          "base_uri": "https://localhost:8080/"
        },
        "id": "WJjoPzh2DHiG",
        "outputId": "89e69dab-471e-4df9-a4ec-41260cd83a55"
      },
      "source": [
        "  model = KMeans(n_clusters=5,max_iter=500,algorithm=\"full\")\n",
        "  model.fit(data_customer_frequency[['Frequency']])\n",
        "  model.cluster_centers_"
      ],
      "execution_count": null,
      "outputs": [
        {
          "output_type": "execute_result",
          "data": {
            "text/plain": [
              "array([[  2.64980759],\n",
              "       [ 34.        ],\n",
              "       [213.66666667],\n",
              "       [ 12.24358974],\n",
              "       [ 86.58333333]])"
            ]
          },
          "metadata": {
            "tags": []
          },
          "execution_count": 36
        }
      ]
    },
    {
      "cell_type": "code",
      "metadata": {
        "colab": {
          "base_uri": "https://localhost:8080/",
          "height": 419
        },
        "id": "yOyW_GIkE0RQ",
        "outputId": "4c85a056-87d8-4cd4-ea5a-fad852ed6c37"
      },
      "source": [
        "# Using 4 cluster as like recency\n",
        "model = KMeans(n_clusters=4,max_iter=500,algorithm=\"full\")\n",
        "model.fit(data_customer_frequency[['Frequency']])\n",
        "data_customer_frequency['cluster_no'] = model.labels_\n",
        "data_customer_frequency\n",
        "\n"
      ],
      "execution_count": null,
      "outputs": [
        {
          "output_type": "execute_result",
          "data": {
            "text/html": [
              "<div>\n",
              "<style scoped>\n",
              "    .dataframe tbody tr th:only-of-type {\n",
              "        vertical-align: middle;\n",
              "    }\n",
              "\n",
              "    .dataframe tbody tr th {\n",
              "        vertical-align: top;\n",
              "    }\n",
              "\n",
              "    .dataframe thead th {\n",
              "        text-align: right;\n",
              "    }\n",
              "</style>\n",
              "<table border=\"1\" class=\"dataframe\">\n",
              "  <thead>\n",
              "    <tr style=\"text-align: right;\">\n",
              "      <th></th>\n",
              "      <th>CustomerID</th>\n",
              "      <th>Frequency</th>\n",
              "      <th>cluster_no</th>\n",
              "    </tr>\n",
              "  </thead>\n",
              "  <tbody>\n",
              "    <tr>\n",
              "      <th>0</th>\n",
              "      <td>12346</td>\n",
              "      <td>2</td>\n",
              "      <td>0</td>\n",
              "    </tr>\n",
              "    <tr>\n",
              "      <th>1</th>\n",
              "      <td>12347</td>\n",
              "      <td>7</td>\n",
              "      <td>0</td>\n",
              "    </tr>\n",
              "    <tr>\n",
              "      <th>2</th>\n",
              "      <td>12348</td>\n",
              "      <td>4</td>\n",
              "      <td>0</td>\n",
              "    </tr>\n",
              "    <tr>\n",
              "      <th>3</th>\n",
              "      <td>12349</td>\n",
              "      <td>1</td>\n",
              "      <td>0</td>\n",
              "    </tr>\n",
              "    <tr>\n",
              "      <th>4</th>\n",
              "      <td>12350</td>\n",
              "      <td>1</td>\n",
              "      <td>0</td>\n",
              "    </tr>\n",
              "    <tr>\n",
              "      <th>...</th>\n",
              "      <td>...</td>\n",
              "      <td>...</td>\n",
              "      <td>...</td>\n",
              "    </tr>\n",
              "    <tr>\n",
              "      <th>4367</th>\n",
              "      <td>18280</td>\n",
              "      <td>1</td>\n",
              "      <td>0</td>\n",
              "    </tr>\n",
              "    <tr>\n",
              "      <th>4368</th>\n",
              "      <td>18281</td>\n",
              "      <td>1</td>\n",
              "      <td>0</td>\n",
              "    </tr>\n",
              "    <tr>\n",
              "      <th>4369</th>\n",
              "      <td>18282</td>\n",
              "      <td>3</td>\n",
              "      <td>0</td>\n",
              "    </tr>\n",
              "    <tr>\n",
              "      <th>4370</th>\n",
              "      <td>18283</td>\n",
              "      <td>16</td>\n",
              "      <td>2</td>\n",
              "    </tr>\n",
              "    <tr>\n",
              "      <th>4371</th>\n",
              "      <td>18287</td>\n",
              "      <td>3</td>\n",
              "      <td>0</td>\n",
              "    </tr>\n",
              "  </tbody>\n",
              "</table>\n",
              "<p>4372 rows × 3 columns</p>\n",
              "</div>"
            ],
            "text/plain": [
              "     CustomerID  Frequency  cluster_no\n",
              "0         12346          2           0\n",
              "1         12347          7           0\n",
              "2         12348          4           0\n",
              "3         12349          1           0\n",
              "4         12350          1           0\n",
              "...         ...        ...         ...\n",
              "4367      18280          1           0\n",
              "4368      18281          1           0\n",
              "4369      18282          3           0\n",
              "4370      18283         16           2\n",
              "4371      18287          3           0\n",
              "\n",
              "[4372 rows x 3 columns]"
            ]
          },
          "metadata": {
            "tags": []
          },
          "execution_count": 37
        }
      ]
    },
    {
      "cell_type": "code",
      "metadata": {
        "colab": {
          "base_uri": "https://localhost:8080/"
        },
        "id": "dyARYg_dFm6j",
        "outputId": "8aca52f7-0d2e-4892-f62f-110a880b7c62"
      },
      "source": [
        "data_customer_frequency.groupby('cluster_no').Frequency.mean()"
      ],
      "execution_count": null,
      "outputs": [
        {
          "output_type": "execute_result",
          "data": {
            "text/plain": [
              "cluster_no\n",
              "0      2.816511\n",
              "1     48.320000\n",
              "2     14.604278\n",
              "3    167.500000\n",
              "Name: Frequency, dtype: float64"
            ]
          },
          "metadata": {
            "tags": []
          },
          "execution_count": 38
        }
      ]
    },
    {
      "cell_type": "code",
      "metadata": {
        "colab": {
          "base_uri": "https://localhost:8080/"
        },
        "id": "H_uGEeCPGGL1",
        "outputId": "1cb29637-a9da-4e83-b025-f4d0f9a3d817"
      },
      "source": [
        "data_customer_frequency.cluster_no.value_counts()"
      ],
      "execution_count": null,
      "outputs": [
        {
          "output_type": "execute_result",
          "data": {
            "text/plain": [
              "0    3755\n",
              "2     561\n",
              "1      50\n",
              "3       6\n",
              "Name: cluster_no, dtype: int64"
            ]
          },
          "metadata": {
            "tags": []
          },
          "execution_count": 40
        }
      ]
    },
    {
      "cell_type": "code",
      "metadata": {
        "colab": {
          "base_uri": "https://localhost:8080/"
        },
        "id": "W3pUuSRWFMam",
        "outputId": "04dbc0dc-0759-4c29-e79a-0dfed8aefe03"
      },
      "source": [
        "# Low frequency customers of low value i.e <=2.81, greater than 2.94 and less than 15.57 is medium value customers\n",
        "#between 48.65-167.5 is high value, and greater than 167.50 is very_high\n",
        "\n",
        "data_customer_frequency['cluster_labels'] = 'Low'\n",
        "data_customer_frequency.loc[data_customer_frequency['cluster_no']==0,'cluster_labels'] = 'Low'\n",
        "data_customer_frequency.loc[data_customer_frequency['cluster_no']==1,'cluster_labels'] = 'High'\n",
        "data_customer_frequency.loc[data_customer_frequency['cluster_no']==2,'cluster_labels'] = 'Medium'\n",
        "data_customer_frequency.loc[data_customer_frequency['cluster_no']==3,'cluster_labels'] = 'Very High'\n",
        "data_customer_frequency.cluster_labels.value_counts()"
      ],
      "execution_count": null,
      "outputs": [
        {
          "output_type": "execute_result",
          "data": {
            "text/plain": [
              "Low          3755\n",
              "Medium        561\n",
              "High           50\n",
              "Very High       6\n",
              "Name: cluster_labels, dtype: int64"
            ]
          },
          "metadata": {
            "tags": []
          },
          "execution_count": 41
        }
      ]
    },
    {
      "cell_type": "code",
      "metadata": {
        "colab": {
          "base_uri": "https://localhost:8080/",
          "height": 289
        },
        "id": "Uvs7_8T-MlgZ",
        "outputId": "ebc92fce-96cc-42d1-fae6-eb999cf53880"
      },
      "source": [
        "#Find value by multiplying unit price * quantity\n",
        "\n",
        "data['Total_amount'] = data['Quantity']*data['UnitPrice']\n",
        "\n",
        "data.head()"
      ],
      "execution_count": null,
      "outputs": [
        {
          "output_type": "execute_result",
          "data": {
            "text/html": [
              "<div>\n",
              "<style scoped>\n",
              "    .dataframe tbody tr th:only-of-type {\n",
              "        vertical-align: middle;\n",
              "    }\n",
              "\n",
              "    .dataframe tbody tr th {\n",
              "        vertical-align: top;\n",
              "    }\n",
              "\n",
              "    .dataframe thead th {\n",
              "        text-align: right;\n",
              "    }\n",
              "</style>\n",
              "<table border=\"1\" class=\"dataframe\">\n",
              "  <thead>\n",
              "    <tr style=\"text-align: right;\">\n",
              "      <th></th>\n",
              "      <th>InvoiceNo</th>\n",
              "      <th>StockCode</th>\n",
              "      <th>Description</th>\n",
              "      <th>Quantity</th>\n",
              "      <th>InvoiceDate</th>\n",
              "      <th>UnitPrice</th>\n",
              "      <th>CustomerID</th>\n",
              "      <th>Country</th>\n",
              "      <th>Last_Buying_Date</th>\n",
              "      <th>Recency</th>\n",
              "      <th>Total_amount</th>\n",
              "    </tr>\n",
              "  </thead>\n",
              "  <tbody>\n",
              "    <tr>\n",
              "      <th>0</th>\n",
              "      <td>536365</td>\n",
              "      <td>85123A</td>\n",
              "      <td>WHITE HANGING HEART T-LIGHT HOLDER</td>\n",
              "      <td>6</td>\n",
              "      <td>2010-12-01 08:26:00</td>\n",
              "      <td>2.55</td>\n",
              "      <td>17850</td>\n",
              "      <td>United Kingdom</td>\n",
              "      <td>2011-02-10 14:38:00</td>\n",
              "      <td>71</td>\n",
              "      <td>15.30</td>\n",
              "    </tr>\n",
              "    <tr>\n",
              "      <th>1</th>\n",
              "      <td>536365</td>\n",
              "      <td>71053</td>\n",
              "      <td>WHITE METAL LANTERN</td>\n",
              "      <td>6</td>\n",
              "      <td>2010-12-01 08:26:00</td>\n",
              "      <td>3.39</td>\n",
              "      <td>17850</td>\n",
              "      <td>United Kingdom</td>\n",
              "      <td>2011-02-10 14:38:00</td>\n",
              "      <td>71</td>\n",
              "      <td>20.34</td>\n",
              "    </tr>\n",
              "    <tr>\n",
              "      <th>2</th>\n",
              "      <td>536365</td>\n",
              "      <td>84406B</td>\n",
              "      <td>CREAM CUPID HEARTS COAT HANGER</td>\n",
              "      <td>8</td>\n",
              "      <td>2010-12-01 08:26:00</td>\n",
              "      <td>2.75</td>\n",
              "      <td>17850</td>\n",
              "      <td>United Kingdom</td>\n",
              "      <td>2011-02-10 14:38:00</td>\n",
              "      <td>71</td>\n",
              "      <td>22.00</td>\n",
              "    </tr>\n",
              "    <tr>\n",
              "      <th>3</th>\n",
              "      <td>536365</td>\n",
              "      <td>84029G</td>\n",
              "      <td>KNITTED UNION FLAG HOT WATER BOTTLE</td>\n",
              "      <td>6</td>\n",
              "      <td>2010-12-01 08:26:00</td>\n",
              "      <td>3.39</td>\n",
              "      <td>17850</td>\n",
              "      <td>United Kingdom</td>\n",
              "      <td>2011-02-10 14:38:00</td>\n",
              "      <td>71</td>\n",
              "      <td>20.34</td>\n",
              "    </tr>\n",
              "    <tr>\n",
              "      <th>4</th>\n",
              "      <td>536365</td>\n",
              "      <td>84029E</td>\n",
              "      <td>RED WOOLLY HOTTIE WHITE HEART.</td>\n",
              "      <td>6</td>\n",
              "      <td>2010-12-01 08:26:00</td>\n",
              "      <td>3.39</td>\n",
              "      <td>17850</td>\n",
              "      <td>United Kingdom</td>\n",
              "      <td>2011-02-10 14:38:00</td>\n",
              "      <td>71</td>\n",
              "      <td>20.34</td>\n",
              "    </tr>\n",
              "  </tbody>\n",
              "</table>\n",
              "</div>"
            ],
            "text/plain": [
              "  InvoiceNo StockCode  ... Recency  Total_amount\n",
              "0    536365    85123A  ...      71         15.30\n",
              "1    536365     71053  ...      71         20.34\n",
              "2    536365    84406B  ...      71         22.00\n",
              "3    536365    84029G  ...      71         20.34\n",
              "4    536365    84029E  ...      71         20.34\n",
              "\n",
              "[5 rows x 11 columns]"
            ]
          },
          "metadata": {
            "tags": []
          },
          "execution_count": 42
        }
      ]
    },
    {
      "cell_type": "code",
      "metadata": {
        "colab": {
          "base_uri": "https://localhost:8080/",
          "height": 419
        },
        "id": "E8uo2IQTNunH",
        "outputId": "d7167c00-a2ba-4189-c17f-616d18733555"
      },
      "source": [
        "#find monetary value customer\n",
        "\n",
        "data_customer_value = data[['CustomerID','Total_amount']]\n",
        "data_customer_value = data_customer_value.groupby('CustomerID').Total_amount.sum().reset_index()\n",
        "data_customer_value.columns = ['CustomerID','Total_amount']\n",
        "data_customer_value"
      ],
      "execution_count": null,
      "outputs": [
        {
          "output_type": "execute_result",
          "data": {
            "text/html": [
              "<div>\n",
              "<style scoped>\n",
              "    .dataframe tbody tr th:only-of-type {\n",
              "        vertical-align: middle;\n",
              "    }\n",
              "\n",
              "    .dataframe tbody tr th {\n",
              "        vertical-align: top;\n",
              "    }\n",
              "\n",
              "    .dataframe thead th {\n",
              "        text-align: right;\n",
              "    }\n",
              "</style>\n",
              "<table border=\"1\" class=\"dataframe\">\n",
              "  <thead>\n",
              "    <tr style=\"text-align: right;\">\n",
              "      <th></th>\n",
              "      <th>CustomerID</th>\n",
              "      <th>Total_amount</th>\n",
              "    </tr>\n",
              "  </thead>\n",
              "  <tbody>\n",
              "    <tr>\n",
              "      <th>0</th>\n",
              "      <td>12346</td>\n",
              "      <td>0.00</td>\n",
              "    </tr>\n",
              "    <tr>\n",
              "      <th>1</th>\n",
              "      <td>12347</td>\n",
              "      <td>4310.00</td>\n",
              "    </tr>\n",
              "    <tr>\n",
              "      <th>2</th>\n",
              "      <td>12348</td>\n",
              "      <td>1797.24</td>\n",
              "    </tr>\n",
              "    <tr>\n",
              "      <th>3</th>\n",
              "      <td>12349</td>\n",
              "      <td>1757.55</td>\n",
              "    </tr>\n",
              "    <tr>\n",
              "      <th>4</th>\n",
              "      <td>12350</td>\n",
              "      <td>334.40</td>\n",
              "    </tr>\n",
              "    <tr>\n",
              "      <th>...</th>\n",
              "      <td>...</td>\n",
              "      <td>...</td>\n",
              "    </tr>\n",
              "    <tr>\n",
              "      <th>4367</th>\n",
              "      <td>18280</td>\n",
              "      <td>180.60</td>\n",
              "    </tr>\n",
              "    <tr>\n",
              "      <th>4368</th>\n",
              "      <td>18281</td>\n",
              "      <td>80.82</td>\n",
              "    </tr>\n",
              "    <tr>\n",
              "      <th>4369</th>\n",
              "      <td>18282</td>\n",
              "      <td>176.60</td>\n",
              "    </tr>\n",
              "    <tr>\n",
              "      <th>4370</th>\n",
              "      <td>18283</td>\n",
              "      <td>2094.88</td>\n",
              "    </tr>\n",
              "    <tr>\n",
              "      <th>4371</th>\n",
              "      <td>18287</td>\n",
              "      <td>1837.28</td>\n",
              "    </tr>\n",
              "  </tbody>\n",
              "</table>\n",
              "<p>4372 rows × 2 columns</p>\n",
              "</div>"
            ],
            "text/plain": [
              "     CustomerID  Total_amount\n",
              "0         12346          0.00\n",
              "1         12347       4310.00\n",
              "2         12348       1797.24\n",
              "3         12349       1757.55\n",
              "4         12350        334.40\n",
              "...         ...           ...\n",
              "4367      18280        180.60\n",
              "4368      18281         80.82\n",
              "4369      18282        176.60\n",
              "4370      18283       2094.88\n",
              "4371      18287       1837.28\n",
              "\n",
              "[4372 rows x 2 columns]"
            ]
          },
          "metadata": {
            "tags": []
          },
          "execution_count": 43
        }
      ]
    },
    {
      "cell_type": "code",
      "metadata": {
        "colab": {
          "base_uri": "https://localhost:8080/",
          "height": 333
        },
        "id": "B90-6xe8S1Zi",
        "outputId": "9ba21227-b686-4ef4-b2d3-50d1c5771de0"
      },
      "source": [
        "plt.hist(data_customer_value['Total_amount'],bins=[5000,10000,15000,20000,25000,30000,35000,40000,45000,50000,55000,60000])"
      ],
      "execution_count": null,
      "outputs": [
        {
          "output_type": "execute_result",
          "data": {
            "text/plain": [
              "(array([166.,  43.,  15.,   5.,   8.,   6.,   1.,   1.,   0.,   6.,   3.]),\n",
              " array([ 5000, 10000, 15000, 20000, 25000, 30000, 35000, 40000, 45000,\n",
              "        50000, 55000, 60000]),\n",
              " <a list of 11 Patch objects>)"
            ]
          },
          "metadata": {
            "tags": []
          },
          "execution_count": 73
        },
        {
          "output_type": "display_data",
          "data": {
            "image/png": "[encoded data removed]",
            "text/plain": [
              "<Figure size 432x288 with 1 Axes>"
            ]
          },
          "metadata": {
            "tags": [],
            "needs_background": "light"
          }
        }
      ]
    },
    {
      "cell_type": "code",
      "metadata": {
        "colab": {
          "base_uri": "https://localhost:8080/",
          "height": 295
        },
        "id": "52fLisBtSRh0",
        "outputId": "67cf9809-a01f-41c7-9c9a-ca7e71afdd29"
      },
      "source": [
        "#find cluster no for monetary value\n",
        "\n",
        "c = {}\n",
        "for k in range(1,10):\n",
        "  model = KMeans(n_clusters=k,max_iter=500,algorithm=\"full\")\n",
        "  model.fit(data_customer_value[['Total_amount']])\n",
        "  c[k] = model.inertia_\n",
        "\n",
        "plt.plot(list(c.keys()),list(c.values()))\n",
        "plt.xlabel(\"No of cluster\")\n",
        "plt.ylabel(\"Inertia Coeff\")\n",
        "plt.title(\"Inertia graph for each cluster no -- Monetary Value\")\n",
        "plt.show()"
      ],
      "execution_count": null,
      "outputs": [
        {
          "output_type": "display_data",
          "data": {
            "image/png": "[encoded data removed]",
            "text/plain": [
              "<Figure size 432x288 with 1 Axes>"
            ]
          },
          "metadata": {
            "tags": [],
            "needs_background": "light"
          }
        }
      ]
    },
    {
      "cell_type": "code",
      "metadata": {
        "colab": {
          "base_uri": "https://localhost:8080/"
        },
        "id": "1ZZ8fG6DTUxn",
        "outputId": "50b96e7e-93eb-4ef0-8a3a-680c58de0918"
      },
      "source": [
        "#using 4 clusters for values\n",
        "model = KMeans(n_clusters=4,max_iter=500,algorithm=\"full\")\n",
        "model.fit(data_customer_value[['Total_amount']])\n",
        "data_customer_value['cluster_no'] = model.labels_\n",
        "data_customer_value.cluster_no.value_counts()"
      ],
      "execution_count": null,
      "outputs": [
        {
          "output_type": "execute_result",
          "data": {
            "text/plain": [
              "0    4236\n",
              "3     118\n",
              "1      15\n",
              "2       3\n",
              "Name: cluster_no, dtype: int64"
            ]
          },
          "metadata": {
            "tags": []
          },
          "execution_count": 74
        }
      ]
    },
    {
      "cell_type": "code",
      "metadata": {
        "colab": {
          "base_uri": "https://localhost:8080/"
        },
        "id": "DOOX6TK3TzZf",
        "outputId": "2bd7729c-1bfe-4c11-e841-6da7932523e3"
      },
      "source": [
        "model.cluster_centers_"
      ],
      "execution_count": null,
      "outputs": [
        {
          "output_type": "execute_result",
          "data": {
            "text/plain": [
              "array([[  1133.43137521],\n",
              "       [ 71423.516     ],\n",
              "       [241136.56      ],\n",
              "       [ 14329.59260504]])"
            ]
          },
          "metadata": {
            "tags": []
          },
          "execution_count": 76
        }
      ]
    },
    {
      "cell_type": "code",
      "metadata": {
        "colab": {
          "base_uri": "https://localhost:8080/"
        },
        "id": "VEszwCVzUZZr",
        "outputId": "11b4c3be-ee34-432b-b4a7-0d2b39065ad6"
      },
      "source": [
        "data_customer_value.groupby('cluster_no').Total_amount.mean()"
      ],
      "execution_count": null,
      "outputs": [
        {
          "output_type": "execute_result",
          "data": {
            "text/plain": [
              "cluster_no\n",
              "0      1134.984243\n",
              "1     71423.516000\n",
              "2    241136.560000\n",
              "3     14385.679153\n",
              "Name: Total_amount, dtype: float64"
            ]
          },
          "metadata": {
            "tags": []
          },
          "execution_count": 77
        }
      ]
    },
    {
      "cell_type": "code",
      "metadata": {
        "colab": {
          "base_uri": "https://localhost:8080/"
        },
        "id": "mz9w0AK0VgmY",
        "outputId": "29efa812-d916-41f8-9edd-416d038c181d"
      },
      "source": [
        "# Adding labels to Values ,\n",
        "#<=1134.98 == Low\n",
        "# >1134.98 and <=14385.67 == Medium\n",
        "# >14385.67 and <=71423.51 == High\n",
        "# > 71423.51 is Very High\n",
        "\n",
        "data_customer_value['cluster_labels'] = 'Low'\n",
        "data_customer_value.loc[data_customer_value['cluster_no'] == 0,'cluster_labels'] = 'Low'\n",
        "data_customer_value.loc[data_customer_value['cluster_no'] == 1,'cluster_labels'] = 'High'\n",
        "data_customer_value.loc[data_customer_value['cluster_no'] == 2,'cluster_labels'] = 'Very High'\n",
        "data_customer_value.loc[data_customer_value['cluster_no'] == 3,'cluster_labels'] = 'Medium'\n",
        "data_customer_value.cluster_labels.value_counts()"
      ],
      "execution_count": null,
      "outputs": [
        {
          "output_type": "execute_result",
          "data": {
            "text/plain": [
              "Low          4236\n",
              "Medium        118\n",
              "High           15\n",
              "Very High       3\n",
              "Name: cluster_labels, dtype: int64"
            ]
          },
          "metadata": {
            "tags": []
          },
          "execution_count": 79
        }
      ]
    },
    {
      "cell_type": "code",
      "metadata": {
        "colab": {
          "base_uri": "https://localhost:8080/",
          "height": 439
        },
        "id": "Jg-OsejkXXX2",
        "outputId": "57d6aad0-db7e-45e7-a77b-657275cd35cd"
      },
      "source": [
        "data_customer_recency.rename(columns={'cluster_labels':'cluster_labels_recency','cluster_no':'cluster_no_recency'},inplace=True)\n",
        "data_customer_frequency.rename(columns={'cluster_labels':'cluster_labels_frequency','cluster_no':'cluster_no_frequency'},inplace=True)\n",
        "data_customer_value.rename(columns={'cluster_labels':'cluster_labels_value','cluster_no':'cluster_no_value'},inplace=True)\n",
        "\n",
        "result =  data_customer_recency\n",
        "result = result.join(data_customer_frequency.set_index('CustomerID'),on='CustomerID')\n",
        "result = result.join(data_customer_value.set_index('CustomerID'),on='CustomerID')\n",
        "result\n"
      ],
      "execution_count": null,
      "outputs": [
        {
          "output_type": "execute_result",
          "data": {
            "text/html": [
              "<div>\n",
              "<style scoped>\n",
              "    .dataframe tbody tr th:only-of-type {\n",
              "        vertical-align: middle;\n",
              "    }\n",
              "\n",
              "    .dataframe tbody tr th {\n",
              "        vertical-align: top;\n",
              "    }\n",
              "\n",
              "    .dataframe thead th {\n",
              "        text-align: right;\n",
              "    }\n",
              "</style>\n",
              "<table border=\"1\" class=\"dataframe\">\n",
              "  <thead>\n",
              "    <tr style=\"text-align: right;\">\n",
              "      <th></th>\n",
              "      <th>CustomerID</th>\n",
              "      <th>Recency</th>\n",
              "      <th>cluster_no_recency</th>\n",
              "      <th>cluster_labels_recency</th>\n",
              "      <th>Frequency</th>\n",
              "      <th>cluster_no_frequency</th>\n",
              "      <th>cluster_labels_frequency</th>\n",
              "      <th>Total_amount</th>\n",
              "      <th>cluster_no_value</th>\n",
              "      <th>cluster_labels_value</th>\n",
              "    </tr>\n",
              "  </thead>\n",
              "  <tbody>\n",
              "    <tr>\n",
              "      <th>0</th>\n",
              "      <td>12347</td>\n",
              "      <td>37</td>\n",
              "      <td>0</td>\n",
              "      <td>Very High</td>\n",
              "      <td>7</td>\n",
              "      <td>0</td>\n",
              "      <td>Low</td>\n",
              "      <td>4310.00</td>\n",
              "      <td>0</td>\n",
              "      <td>Low</td>\n",
              "    </tr>\n",
              "    <tr>\n",
              "      <th>1</th>\n",
              "      <td>12348</td>\n",
              "      <td>173</td>\n",
              "      <td>1</td>\n",
              "      <td>Medium</td>\n",
              "      <td>4</td>\n",
              "      <td>0</td>\n",
              "      <td>Low</td>\n",
              "      <td>1797.24</td>\n",
              "      <td>0</td>\n",
              "      <td>Low</td>\n",
              "    </tr>\n",
              "    <tr>\n",
              "      <th>2</th>\n",
              "      <td>12352</td>\n",
              "      <td>35</td>\n",
              "      <td>0</td>\n",
              "      <td>Very High</td>\n",
              "      <td>11</td>\n",
              "      <td>2</td>\n",
              "      <td>Medium</td>\n",
              "      <td>1545.41</td>\n",
              "      <td>0</td>\n",
              "      <td>Low</td>\n",
              "    </tr>\n",
              "    <tr>\n",
              "      <th>3</th>\n",
              "      <td>12356</td>\n",
              "      <td>222</td>\n",
              "      <td>3</td>\n",
              "      <td>Low</td>\n",
              "      <td>3</td>\n",
              "      <td>0</td>\n",
              "      <td>Low</td>\n",
              "      <td>2811.43</td>\n",
              "      <td>0</td>\n",
              "      <td>Low</td>\n",
              "    </tr>\n",
              "    <tr>\n",
              "      <th>4</th>\n",
              "      <td>12358</td>\n",
              "      <td>149</td>\n",
              "      <td>1</td>\n",
              "      <td>Medium</td>\n",
              "      <td>2</td>\n",
              "      <td>0</td>\n",
              "      <td>Low</td>\n",
              "      <td>1168.06</td>\n",
              "      <td>0</td>\n",
              "      <td>Low</td>\n",
              "    </tr>\n",
              "    <tr>\n",
              "      <th>...</th>\n",
              "      <td>...</td>\n",
              "      <td>...</td>\n",
              "      <td>...</td>\n",
              "      <td>...</td>\n",
              "      <td>...</td>\n",
              "      <td>...</td>\n",
              "      <td>...</td>\n",
              "      <td>...</td>\n",
              "      <td>...</td>\n",
              "      <td>...</td>\n",
              "    </tr>\n",
              "    <tr>\n",
              "      <th>4355</th>\n",
              "      <td>18262</td>\n",
              "      <td>0</td>\n",
              "      <td>0</td>\n",
              "      <td>Very High</td>\n",
              "      <td>1</td>\n",
              "      <td>0</td>\n",
              "      <td>Low</td>\n",
              "      <td>149.48</td>\n",
              "      <td>0</td>\n",
              "      <td>Low</td>\n",
              "    </tr>\n",
              "    <tr>\n",
              "      <th>4358</th>\n",
              "      <td>18268</td>\n",
              "      <td>0</td>\n",
              "      <td>0</td>\n",
              "      <td>Very High</td>\n",
              "      <td>2</td>\n",
              "      <td>0</td>\n",
              "      <td>Low</td>\n",
              "      <td>0.00</td>\n",
              "      <td>0</td>\n",
              "      <td>Low</td>\n",
              "    </tr>\n",
              "    <tr>\n",
              "      <th>4366</th>\n",
              "      <td>18278</td>\n",
              "      <td>0</td>\n",
              "      <td>0</td>\n",
              "      <td>Very High</td>\n",
              "      <td>1</td>\n",
              "      <td>0</td>\n",
              "      <td>Low</td>\n",
              "      <td>173.90</td>\n",
              "      <td>0</td>\n",
              "      <td>Low</td>\n",
              "    </tr>\n",
              "    <tr>\n",
              "      <th>4367</th>\n",
              "      <td>18280</td>\n",
              "      <td>0</td>\n",
              "      <td>0</td>\n",
              "      <td>Very High</td>\n",
              "      <td>1</td>\n",
              "      <td>0</td>\n",
              "      <td>Low</td>\n",
              "      <td>180.60</td>\n",
              "      <td>0</td>\n",
              "      <td>Low</td>\n",
              "    </tr>\n",
              "    <tr>\n",
              "      <th>4368</th>\n",
              "      <td>18281</td>\n",
              "      <td>0</td>\n",
              "      <td>0</td>\n",
              "      <td>Very High</td>\n",
              "      <td>1</td>\n",
              "      <td>0</td>\n",
              "      <td>Low</td>\n",
              "      <td>80.82</td>\n",
              "      <td>0</td>\n",
              "      <td>Low</td>\n",
              "    </tr>\n",
              "  </tbody>\n",
              "</table>\n",
              "<p>4372 rows × 10 columns</p>\n",
              "</div>"
            ],
            "text/plain": [
              "     CustomerID  Recency  ...  cluster_no_value cluster_labels_value\n",
              "0         12347       37  ...                 0                  Low\n",
              "1         12348      173  ...                 0                  Low\n",
              "2         12352       35  ...                 0                  Low\n",
              "3         12356      222  ...                 0                  Low\n",
              "4         12358      149  ...                 0                  Low\n",
              "...         ...      ...  ...               ...                  ...\n",
              "4355      18262        0  ...                 0                  Low\n",
              "4358      18268        0  ...                 0                  Low\n",
              "4366      18278        0  ...                 0                  Low\n",
              "4367      18280        0  ...                 0                  Low\n",
              "4368      18281        0  ...                 0                  Low\n",
              "\n",
              "[4372 rows x 10 columns]"
            ]
          },
          "metadata": {
            "tags": []
          },
          "execution_count": 84
        }
      ]
    },
    {
      "cell_type": "code",
      "metadata": {
        "colab": {
          "base_uri": "https://localhost:8080/",
          "height": 419
        },
        "id": "2CMM7CImaeti",
        "outputId": "69e5e135-28dc-4d04-8837-3f29deef8ec4"
      },
      "source": [
        "result.drop(labels=['Recency','cluster_no_recency','Frequency','cluster_no_frequency','Total_amount','cluster_no_value'],axis=1,inplace=True)\n",
        "result"
      ],
      "execution_count": null,
      "outputs": [
        {
          "output_type": "execute_result",
          "data": {
            "text/html": [
              "<div>\n",
              "<style scoped>\n",
              "    .dataframe tbody tr th:only-of-type {\n",
              "        vertical-align: middle;\n",
              "    }\n",
              "\n",
              "    .dataframe tbody tr th {\n",
              "        vertical-align: top;\n",
              "    }\n",
              "\n",
              "    .dataframe thead th {\n",
              "        text-align: right;\n",
              "    }\n",
              "</style>\n",
              "<table border=\"1\" class=\"dataframe\">\n",
              "  <thead>\n",
              "    <tr style=\"text-align: right;\">\n",
              "      <th></th>\n",
              "      <th>CustomerID</th>\n",
              "      <th>cluster_labels_recency</th>\n",
              "      <th>cluster_labels_frequency</th>\n",
              "      <th>cluster_labels_value</th>\n",
              "    </tr>\n",
              "  </thead>\n",
              "  <tbody>\n",
              "    <tr>\n",
              "      <th>0</th>\n",
              "      <td>12347</td>\n",
              "      <td>Very High</td>\n",
              "      <td>Low</td>\n",
              "      <td>Low</td>\n",
              "    </tr>\n",
              "    <tr>\n",
              "      <th>1</th>\n",
              "      <td>12348</td>\n",
              "      <td>Medium</td>\n",
              "      <td>Low</td>\n",
              "      <td>Low</td>\n",
              "    </tr>\n",
              "    <tr>\n",
              "      <th>2</th>\n",
              "      <td>12352</td>\n",
              "      <td>Very High</td>\n",
              "      <td>Medium</td>\n",
              "      <td>Low</td>\n",
              "    </tr>\n",
              "    <tr>\n",
              "      <th>3</th>\n",
              "      <td>12356</td>\n",
              "      <td>Low</td>\n",
              "      <td>Low</td>\n",
              "      <td>Low</td>\n",
              "    </tr>\n",
              "    <tr>\n",
              "      <th>4</th>\n",
              "      <td>12358</td>\n",
              "      <td>Medium</td>\n",
              "      <td>Low</td>\n",
              "      <td>Low</td>\n",
              "    </tr>\n",
              "    <tr>\n",
              "      <th>...</th>\n",
              "      <td>...</td>\n",
              "      <td>...</td>\n",
              "      <td>...</td>\n",
              "      <td>...</td>\n",
              "    </tr>\n",
              "    <tr>\n",
              "      <th>4355</th>\n",
              "      <td>18262</td>\n",
              "      <td>Very High</td>\n",
              "      <td>Low</td>\n",
              "      <td>Low</td>\n",
              "    </tr>\n",
              "    <tr>\n",
              "      <th>4358</th>\n",
              "      <td>18268</td>\n",
              "      <td>Very High</td>\n",
              "      <td>Low</td>\n",
              "      <td>Low</td>\n",
              "    </tr>\n",
              "    <tr>\n",
              "      <th>4366</th>\n",
              "      <td>18278</td>\n",
              "      <td>Very High</td>\n",
              "      <td>Low</td>\n",
              "      <td>Low</td>\n",
              "    </tr>\n",
              "    <tr>\n",
              "      <th>4367</th>\n",
              "      <td>18280</td>\n",
              "      <td>Very High</td>\n",
              "      <td>Low</td>\n",
              "      <td>Low</td>\n",
              "    </tr>\n",
              "    <tr>\n",
              "      <th>4368</th>\n",
              "      <td>18281</td>\n",
              "      <td>Very High</td>\n",
              "      <td>Low</td>\n",
              "      <td>Low</td>\n",
              "    </tr>\n",
              "  </tbody>\n",
              "</table>\n",
              "<p>4372 rows × 4 columns</p>\n",
              "</div>"
            ],
            "text/plain": [
              "     CustomerID  ... cluster_labels_value\n",
              "0         12347  ...                  Low\n",
              "1         12348  ...                  Low\n",
              "2         12352  ...                  Low\n",
              "3         12356  ...                  Low\n",
              "4         12358  ...                  Low\n",
              "...         ...  ...                  ...\n",
              "4355      18262  ...                  Low\n",
              "4358      18268  ...                  Low\n",
              "4366      18278  ...                  Low\n",
              "4367      18280  ...                  Low\n",
              "4368      18281  ...                  Low\n",
              "\n",
              "[4372 rows x 4 columns]"
            ]
          },
          "metadata": {
            "tags": []
          },
          "execution_count": 85
        }
      ]
    },
    {
      "cell_type": "code",
      "metadata": {
        "colab": {
          "base_uri": "https://localhost:8080/",
          "height": 419
        },
        "id": "jElmMxqsb_X8",
        "outputId": "59f90552-2aed-49bb-8d03-0082185517d2"
      },
      "source": [
        "result['RFM_labels']  = result['cluster_labels_recency']+'_'+result['cluster_labels_frequency']+'_'+result['cluster_labels_value']\n",
        "result \n",
        "# created a RFM label by concatinating all labels"
      ],
      "execution_count": null,
      "outputs": [
        {
          "output_type": "execute_result",
          "data": {
            "text/html": [
              "<div>\n",
              "<style scoped>\n",
              "    .dataframe tbody tr th:only-of-type {\n",
              "        vertical-align: middle;\n",
              "    }\n",
              "\n",
              "    .dataframe tbody tr th {\n",
              "        vertical-align: top;\n",
              "    }\n",
              "\n",
              "    .dataframe thead th {\n",
              "        text-align: right;\n",
              "    }\n",
              "</style>\n",
              "<table border=\"1\" class=\"dataframe\">\n",
              "  <thead>\n",
              "    <tr style=\"text-align: right;\">\n",
              "      <th></th>\n",
              "      <th>CustomerID</th>\n",
              "      <th>cluster_labels_recency</th>\n",
              "      <th>cluster_labels_frequency</th>\n",
              "      <th>cluster_labels_value</th>\n",
              "      <th>RFM_labels</th>\n",
              "    </tr>\n",
              "  </thead>\n",
              "  <tbody>\n",
              "    <tr>\n",
              "      <th>0</th>\n",
              "      <td>12347</td>\n",
              "      <td>Very High</td>\n",
              "      <td>Low</td>\n",
              "      <td>Low</td>\n",
              "      <td>Very High_Low_Low</td>\n",
              "    </tr>\n",
              "    <tr>\n",
              "      <th>1</th>\n",
              "      <td>12348</td>\n",
              "      <td>Medium</td>\n",
              "      <td>Low</td>\n",
              "      <td>Low</td>\n",
              "      <td>Medium_Low_Low</td>\n",
              "    </tr>\n",
              "    <tr>\n",
              "      <th>2</th>\n",
              "      <td>12352</td>\n",
              "      <td>Very High</td>\n",
              "      <td>Medium</td>\n",
              "      <td>Low</td>\n",
              "      <td>Very High_Medium_Low</td>\n",
              "    </tr>\n",
              "    <tr>\n",
              "      <th>3</th>\n",
              "      <td>12356</td>\n",
              "      <td>Low</td>\n",
              "      <td>Low</td>\n",
              "      <td>Low</td>\n",
              "      <td>Low_Low_Low</td>\n",
              "    </tr>\n",
              "    <tr>\n",
              "      <th>4</th>\n",
              "      <td>12358</td>\n",
              "      <td>Medium</td>\n",
              "      <td>Low</td>\n",
              "      <td>Low</td>\n",
              "      <td>Medium_Low_Low</td>\n",
              "    </tr>\n",
              "    <tr>\n",
              "      <th>...</th>\n",
              "      <td>...</td>\n",
              "      <td>...</td>\n",
              "      <td>...</td>\n",
              "      <td>...</td>\n",
              "      <td>...</td>\n",
              "    </tr>\n",
              "    <tr>\n",
              "      <th>4355</th>\n",
              "      <td>18262</td>\n",
              "      <td>Very High</td>\n",
              "      <td>Low</td>\n",
              "      <td>Low</td>\n",
              "      <td>Very High_Low_Low</td>\n",
              "    </tr>\n",
              "    <tr>\n",
              "      <th>4358</th>\n",
              "      <td>18268</td>\n",
              "      <td>Very High</td>\n",
              "      <td>Low</td>\n",
              "      <td>Low</td>\n",
              "      <td>Very High_Low_Low</td>\n",
              "    </tr>\n",
              "    <tr>\n",
              "      <th>4366</th>\n",
              "      <td>18278</td>\n",
              "      <td>Very High</td>\n",
              "      <td>Low</td>\n",
              "      <td>Low</td>\n",
              "      <td>Very High_Low_Low</td>\n",
              "    </tr>\n",
              "    <tr>\n",
              "      <th>4367</th>\n",
              "      <td>18280</td>\n",
              "      <td>Very High</td>\n",
              "      <td>Low</td>\n",
              "      <td>Low</td>\n",
              "      <td>Very High_Low_Low</td>\n",
              "    </tr>\n",
              "    <tr>\n",
              "      <th>4368</th>\n",
              "      <td>18281</td>\n",
              "      <td>Very High</td>\n",
              "      <td>Low</td>\n",
              "      <td>Low</td>\n",
              "      <td>Very High_Low_Low</td>\n",
              "    </tr>\n",
              "  </tbody>\n",
              "</table>\n",
              "<p>4372 rows × 5 columns</p>\n",
              "</div>"
            ],
            "text/plain": [
              "     CustomerID  ...            RFM_labels\n",
              "0         12347  ...     Very High_Low_Low\n",
              "1         12348  ...        Medium_Low_Low\n",
              "2         12352  ...  Very High_Medium_Low\n",
              "3         12356  ...           Low_Low_Low\n",
              "4         12358  ...        Medium_Low_Low\n",
              "...         ...  ...                   ...\n",
              "4355      18262  ...     Very High_Low_Low\n",
              "4358      18268  ...     Very High_Low_Low\n",
              "4366      18278  ...     Very High_Low_Low\n",
              "4367      18280  ...     Very High_Low_Low\n",
              "4368      18281  ...     Very High_Low_Low\n",
              "\n",
              "[4372 rows x 5 columns]"
            ]
          },
          "metadata": {
            "tags": []
          },
          "execution_count": 86
        }
      ]
    },
    {
      "cell_type": "code",
      "metadata": {
        "colab": {
          "base_uri": "https://localhost:8080/"
        },
        "id": "yiBoVbWUdM7g",
        "outputId": "84bb151a-5f1c-4877-dfe0-ced59ed052d4"
      },
      "source": [
        "result.RFM_labels.value_counts()"
      ],
      "execution_count": null,
      "outputs": [
        {
          "output_type": "execute_result",
          "data": {
            "text/plain": [
              "Very High_Low_Low             2385\n",
              "High_Low_Low                   796\n",
              "Medium_Low_Low                 395\n",
              "Very High_Medium_Low           382\n",
              "Low_Low_Low                    167\n",
              "High_Medium_Low                 95\n",
              "Very High_Medium_Medium         69\n",
              "Very High_High_Medium           27\n",
              "Very High_High_Low              11\n",
              "Very High_High_High              8\n",
              "High_Medium_Medium               7\n",
              "Very High_Low_Medium             6\n",
              "Medium_Medium_Low                4\n",
              "Very High_Medium_High            4\n",
              "High_Low_Medium                  4\n",
              "Very High_Very High_Medium       3\n",
              "Very High_Very High_High         3\n",
              "Very High_High_Very High         3\n",
              "Medium_Low_Medium                2\n",
              "High_High_Low                    1\n",
              "Name: RFM_labels, dtype: int64"
            ]
          },
          "metadata": {
            "tags": []
          },
          "execution_count": 87
        }
      ]
    },
    {
      "cell_type": "code",
      "metadata": {
        "colab": {
          "base_uri": "https://localhost:8080/"
        },
        "id": "Sn6UfHKgfy2y",
        "outputId": "26825d50-e563-4426-9981-1512a8078002"
      },
      "source": [
        "customer_segments.index"
      ],
      "execution_count": null,
      "outputs": [
        {
          "output_type": "execute_result",
          "data": {
            "text/plain": [
              "Index(['Very High_Low_Low', 'High_Low_Low', 'Medium_Low_Low',\n",
              "       'Very High_Medium_Low', 'Low_Low_Low', 'High_Medium_Low',\n",
              "       'Very High_Medium_Medium', 'Very High_High_Medium',\n",
              "       'Very High_High_Low', 'Very High_High_High', 'High_Medium_Medium',\n",
              "       'Very High_Low_Medium', 'Medium_Medium_Low', 'Very High_Medium_High',\n",
              "       'High_Low_Medium', 'Very High_Very High_Medium',\n",
              "       'Very High_Very High_High', 'Very High_High_Very High',\n",
              "       'Medium_Low_Medium', 'High_High_Low'],\n",
              "      dtype='object')"
            ]
          },
          "metadata": {
            "tags": []
          },
          "execution_count": 92
        }
      ]
    },
    {
      "cell_type": "code",
      "metadata": {
        "colab": {
          "base_uri": "https://localhost:8080/",
          "height": 1000
        },
        "id": "Bp31kSNFdxuz",
        "outputId": "44439709-314d-4e87-acb5-8923c64de7a4"
      },
      "source": [
        "#split of customers segmentation\n",
        "customer_segments = result.RFM_labels.value_counts()\n",
        "plt.rcParams[\"figure.figsize\"] = (20,10)\n",
        "plt.pie(customer_segments,labels=list(customer_segments.index),autopct='%1.2f%%')\n"
      ],
      "execution_count": null,
      "outputs": [
        {
          "output_type": "execute_result",
          "data": {
            "text/plain": [
              "([<matplotlib.patches.Wedge at 0x7fc0d321bfd0>,\n",
              "  <matplotlib.patches.Wedge at 0x7fc0d3228790>,\n",
              "  <matplotlib.patches.Wedge at 0x7fc0d3231050>,\n",
              "  <matplotlib.patches.Wedge at 0x7fc0d3231890>,\n",
              "  <matplotlib.patches.Wedge at 0x7fc0d323d310>,\n",
              "  <matplotlib.patches.Wedge at 0x7fc0d323db90>,\n",
              "  <matplotlib.patches.Wedge at 0x7fc0d32481d0>,\n",
              "  <matplotlib.patches.Wedge at 0x7fc0d3248990>,\n",
              "  <matplotlib.patches.Wedge at 0x7fc0d323d110>,\n",
              "  <matplotlib.patches.Wedge at 0x7fc0d323d990>,\n",
              "  <matplotlib.patches.Wedge at 0x7fc0d4a85690>,\n",
              "  <matplotlib.patches.Wedge at 0x7fc0d31e2790>,\n",
              "  <matplotlib.patches.Wedge at 0x7fc0d31e2f50>,\n",
              "  <matplotlib.patches.Wedge at 0x7fc0d31ee750>,\n",
              "  <matplotlib.patches.Wedge at 0x7fc0d31eef10>,\n",
              "  <matplotlib.patches.Wedge at 0x7fc0d31f9710>,\n",
              "  <matplotlib.patches.Wedge at 0x7fc0d31f9ed0>,\n",
              "  <matplotlib.patches.Wedge at 0x7fc0d32066d0>,\n",
              "  <matplotlib.patches.Wedge at 0x7fc0d3206e90>,\n",
              "  <matplotlib.patches.Wedge at 0x7fc0d3192690>],\n",
              " [Text(-0.156759635582479, 1.088772894892249, 'Very High_Low_Low'),\n",
              "  Text(-0.7193688852261274, -0.8321709000971608, 'High_Low_Low'),\n",
              "  Text(0.15675961009790976, -1.088772898561473, 'Medium_Low_Low'),\n",
              "  Text(0.7097538358554613, -0.8403865137473704, 'Very High_Medium_Low'),\n",
              "  Text(0.9782343118082879, -0.503048338831335, 'Low_Low_Low'),\n",
              "  Text(1.0550974504736246, -0.3110777555596949, 'High_Medium_Low'),\n",
              "  Text(1.084353909570797, -0.1848691396597279, 'Very High_Medium_Medium'),\n",
              "  Text(1.0945175959231812, -0.10968697376872004, 'Very High_High_Medium'),\n",
              "  Text(1.0971042918724654, -0.07976322934169802, 'Very High_High_Low'),\n",
              "  Text(1.098091004750828, -0.06477766038779631, 'Very High_High_High'),\n",
              "  Text(1.0987254153966888, -0.05293828068018048, 'High_Medium_Medium'),\n",
              "  Text(1.099171988859061, -0.042672460763548366, 'Very High_Low_Medium'),\n",
              "  Text(1.0994502407265234, -0.034773095438715415, 'Medium_Medium_Low'),\n",
              "  Text(1.0996319689559395, -0.028452290770412475, 'Very High_Medium_High'),\n",
              "  Text(1.0997773588047408, -0.022130545869195724, 'High_Low_Medium'),\n",
              "  Text(1.0998747622873208, -0.016598412074942233, 'Very High_Very High_Medium'),\n",
              "  Text(1.0999361024565981, -0.011856243612058717, 'Very High_Very High_High'),\n",
              "  Text(1.0999769966096746, -0.00711385476096401, 'Very High_High_Very High'),\n",
              "  Text(1.0999954560262308, -0.0031617592642318036, 'Medium_Low_Medium'),\n",
              "  Text(1.099999715973974, -0.0007904790803089671, 'High_High_Low')],\n",
              " [Text(-0.08550525577226126, 0.5938761244866813, '54.55%'),\n",
              "  Text(-0.39238302830516036, -0.45391140005299674, '18.21%'),\n",
              "  Text(0.08550524187158713, -0.5938761264880761, '9.03%'),\n",
              "  Text(0.38713845592116064, -0.45839264386220197, '8.74%'),\n",
              "  Text(0.5335823518954297, -0.27439000299891, '3.82%'),\n",
              "  Text(0.5755077002583406, -0.1696787757598336, '2.17%'),\n",
              "  Text(0.5914657688567984, -0.10083771254166975, '1.58%'),\n",
              "  Text(0.5970095977762806, -0.059829258419301826, '0.62%'),\n",
              "  Text(0.5984205228395265, -0.04350721600456255, '0.25%'),\n",
              "  Text(0.598958729864088, -0.03533326930243434, '0.18%'),\n",
              "  Text(0.5993047720345575, -0.028875425825552983, '0.16%'),\n",
              "  Text(0.5995483575594877, -0.0232758876892082, '0.14%'),\n",
              "  Text(0.5997001313053764, -0.01896714296657204, '0.09%'),\n",
              "  Text(0.5997992557941487, -0.015519431329315894, '0.09%'),\n",
              "  Text(0.5998785593480404, -0.01207120683774312, '0.09%'),\n",
              "  Text(0.5999316885203568, -0.009053679313604854, '0.07%'),\n",
              "  Text(0.599965146794508, -0.006467041970213846, '0.07%'),\n",
              "  Text(0.5999874526961861, -0.0038802844150712776, '0.07%'),\n",
              "  Text(0.5999975214688531, -0.0017245959623082563, '0.05%'),\n",
              "  Text(0.5999998450767131, -0.00043117040744125476, '0.02%')])"
            ]
          },
          "metadata": {
            "tags": []
          },
          "execution_count": 102
        },
        {
          "output_type": "display_data",
          "data": {
            "image/png": "[encoded data removed]",
            "text/plain": [
              "<Figure size 1440x720 with 1 Axes>"
            ]
          },
          "metadata": {
            "tags": []
          }
        }
      ]
    }
  ]
}